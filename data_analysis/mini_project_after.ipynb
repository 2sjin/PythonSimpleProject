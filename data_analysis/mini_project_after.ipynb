{
  "cells": [
    {
      "cell_type": "markdown",
      "metadata": {
        "id": "view-in-github",
        "colab_type": "text"
      },
      "source": [
        "<a href=\"https://colab.research.google.com/github/2sjin/Python_Programming_Practice/blob/main/data_analysis/mini_project_after.ipynb\" target=\"_parent\"><img src=\"https://colab.research.google.com/assets/colab-badge.svg\" alt=\"Open In Colab\"/></a>"
      ]
    },
    {
      "cell_type": "code",
      "execution_count": null,
      "metadata": {
        "colab": {
          "background_save": true,
          "base_uri": "https://localhost:8080/"
        },
        "id": "kzYnzD4jGQuC",
        "outputId": "5dd36804-c5c3-40b3-d13d-b0e28321ad18"
      },
      "outputs": [
        {
          "name": "stdout",
          "output_type": "stream",
          "text": [
            "학과(전공)별 개설 교과목명 출력\n",
            "\n",
            "1. 컴퓨터공학과\n",
            "2. 컴퓨터소프트웨어공학전공\n",
            "3. 응용소프트웨어공학전공\n",
            "4. 게임공학과\n",
            "5. 인공지능학과\n",
            "\n"
          ]
        }
      ],
      "source": [
        "# 미니 프로젝트: 입력한 학과(전공)에서 개설한 교과목명 출력하기\n",
        "# 기존 프로그램의 핵심 코드는 유지하되 주제를 변경하는 방향으로 개선함\n",
        "\n",
        "from bs4 import BeautifulSoup\n",
        "import requests\n",
        "\n",
        "major_tuple = ('DUMMY', 'computer', 'se', 'asw', 'game', 'ai')\n",
        "\n",
        "print(\"학과(전공)별 개설 교과목명 출력\")\n",
        "print(\"\"\"\n",
        "1. 컴퓨터공학과\n",
        "2. 컴퓨터소프트웨어공학전공\n",
        "3. 응용소프트웨어공학전공\n",
        "4. 게임공학과\n",
        "5. 인공지능학과\n",
        "\"\"\")\n",
        "\n",
        "while True:\n",
        "    try:\n",
        "        major_num = int(input(\"학과(전공)에 해당하는 1~5 사이의 정수를 입력하세요: \"))\n",
        "    except:         # 예외 발생 시(정수가 아닌 값 입력 등)\n",
        "        continue    # 올바르게 입력할 때 까지 무한 반복\n",
        "    else:\n",
        "        if 1 <= major_num <= 5:     # 1~5 사이의 값 입력 시 무한루프 탈출\n",
        "            break\n",
        "\n",
        "prepared_url = 'https://{}.deu.ac.kr/{}/sub03_02.do'.format(major_tuple[major_num], major_tuple[major_num])\n",
        "\n",
        "pageurl = requests.get(prepared_url)                    # HTTP 요청\n",
        "soup = BeautifulSoup(pageurl.content, 'html.parser')    # HTML 분석을 위해 HTML 가져옴\n",
        "\n",
        "result1 = soup.find_all('span')     # <span> 태그들이 list 형태로 저장됨\n",
        "result2 = soup.find_all('strong')   # <strong> 태그들이 list 형태로 저장됨\n",
        "\n",
        "print(\"\\n **********\", result1[0].get_text(), \"**********\")\n",
        "\n",
        "for i in result2:\n",
        "    print(i.get_text())     # 텍스트(글 제목)"
      ]
    }
  ],
  "metadata": {
    "colab": {
      "provenance": [],
      "authorship_tag": "ABX9TyMJMa7Og9SIEqii7EyraaId",
      "include_colab_link": true
    },
    "kernelspec": {
      "display_name": "Python 3",
      "name": "python3"
    },
    "language_info": {
      "name": "python"
    }
  },
  "nbformat": 4,
  "nbformat_minor": 0
}
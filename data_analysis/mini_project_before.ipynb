{
  "nbformat": 4,
  "nbformat_minor": 0,
  "metadata": {
    "colab": {
      "provenance": [],
      "authorship_tag": "ABX9TyPCIcdwsCV1i+Zn6FuUb/e5",
      "include_colab_link": true
    },
    "kernelspec": {
      "name": "python3",
      "display_name": "Python 3"
    },
    "language_info": {
      "name": "python"
    }
  },
  "cells": [
    {
      "cell_type": "markdown",
      "metadata": {
        "id": "view-in-github",
        "colab_type": "text"
      },
      "source": [
        "<a href=\"https://colab.research.google.com/github/2sjin/Python_Programming_Practice/blob/main/data_analysis/mini_project_before.ipynb\" target=\"_parent\"><img src=\"https://colab.research.google.com/assets/colab-badge.svg\" alt=\"Open In Colab\"/></a>"
      ]
    },
    {
      "cell_type": "code",
      "execution_count": null,
      "metadata": {
        "id": "NAOkNmylcjTz",
        "outputId": "d48f73e6-c6d6-4b7f-9c70-7d84f71319e7",
        "colab": {
          "base_uri": "https://localhost:8080/"
        }
      },
      "outputs": [
        {
          "output_type": "stream",
          "name": "stdout",
          "text": [
            "파이썬 자격증 취득 수업 내용 정리!\n",
            "https://blog.naver.com/eunoia1017/222968873209\n",
            "부산코딩학원 파이썬 개발 기초부터 배우기\n",
            "https://blog.naver.com/cd34579/222947814795\n",
            "파이썬 강의 취업 성공의 필수 학습전략\n",
            "https://blog.naver.com/ansoeon/222962696977\n",
            "프로그래밍학원 탄탄한 파이썬 기초 수업 과정\n",
            "https://blog.naver.com/jhshh/222969302948\n",
            "파이썬, C++, C#, JAVA 강의를 알지오 인강 강좌로 배워보자\n",
            "https://blog.naver.com/dsw99248/222965168356\n",
            "파이썬 학원 비전공자 배우는 과정!\n",
            "https://blog.naver.com/dlsdo23/222962668716\n",
            "[책추천] Hello IT 파이썬을 제대로 활용해 보려고 해\n",
            "https://blog.naver.com/onetoppro/222964631124\n",
            "파이썬 온라인 코딩 서비스, 구름IDE, python online coding\n",
            "https://blog.naver.com/nkj2001/222793178206\n",
            "울산파이썬학원-파이썬 웨않헤?\n",
            "https://blog.naver.com/gnuoes66/222969275231\n",
            "파이썬 독학 : 첫 시작은 Web 개발을 목표로\n",
            "https://blog.naver.com/urmyver/222918475430\n",
            "파이썬 연산자 : 비교 연산자와 논리 연산자 활용 예제\n",
            "https://blog.naver.com/kut_da_92/222968736640\n",
            "파이썬독학 : Python기초 인강 무료지원 이벤트\n",
            "https://blog.naver.com/ridesafe/222942501015\n",
            "파이썬 알고리즘 인터뷰 - 박상길 리뷰\n",
            "https://blog.naver.com/jhc9639/222963199733\n",
            "업무자동화 프로그래밍 파이썬 코딩 강의 ITUP\n",
            "https://blog.naver.com/itnamu/222968774438\n",
            "파이썬 반복문 : for문 설명\n",
            "https://blog.naver.com/youngayo1/222966452120\n",
            "Python 파이썬 조건문 if elif else 설명 예제\n",
            "https://blog.naver.com/zelhumogris/222967597844\n",
            "[파이썬 마스터 1급]합격!!! (feat. 시험 접수부터 시험장... \n",
            "https://blog.naver.com/jh_jh_se/222950586674\n",
            "OepnAI ChatGTP를 이용하여 파이썬 가위바위보 게임 만들고... \n",
            "https://blog.naver.com/chogar/222957334096\n",
            "전주코딩 - 2023년 1월 겨울방학 파이썬 특강을 진행합니다.\n",
            "https://blog.naver.com/smartlifelab_/222947756169\n",
            "파이썬 코드로 배우는 Git & Github 영진닷컴\n",
            "https://blog.naver.com/onetoppro/222958188079\n",
            "Python(파이썬) 주석 처리와 단축키 사용하는 방법\n",
            "https://mainia.tistory.com/5598\n",
            "KG아이티뱅크학원 컴퓨터코딩교육 파이썬,C언어 기초부터\n",
            "https://blog.naver.com/vg2306/222966118792\n",
            "파이썬 빅데이터 분석 K디지털 기초역량훈련, ITUP(잇업) 론칭\n",
            "https://blog.naver.com/workstirelessly/222966606927\n",
            "파이썬 - 1~n까지 두 수의 합을 구하는 3가지 방법\n",
            "https://blog.naver.com/happynut/222941347846\n",
            "파이썬코딩 : 활용분야 및 공부방향성 가이드라인\n",
            "https://blog.naver.com/ridesafe/222947911964\n",
            "파이썬 교육 2가지 취업 분야에 따라 공부하기\n",
            "https://blog.naver.com/ytkim2612/222957487329\n",
            "컴공과 전공공부 :: 컴퓨터공학과 전공대비는 파이썬부터 시작!!\n",
            "https://blog.naver.com/hhee_0211/222963500160\n",
            "Doit10개만들며배우는파이썬 코딩으로 나만의 게임 완성\n",
            "https://blog.naver.com/sunbeeno1/222969113120\n",
            "프로그래밍기초 교육 : 파이썬 C언어 자바 강의!\n",
            "https://blog.naver.com/ksw3158/222965914527\n",
            "파이썬강의 코딩에 관심 있다면 공부 필수!!\n",
            "https://blog.naver.com/smujack/222934267726\n"
          ]
        }
      ],
      "source": [
        "from bs4 import BeautifulSoup\n",
        "import requests\n",
        "\n",
        "pageurl = requests.get('https://search.naver.com/search.naver?where=blog&sm=tab_viw.blog&query=%ED%8C%8C%EC%9D%B4%EC%8D%AC')\n",
        "\n",
        "soup = BeautifulSoup(pageurl.content, 'html.parser')\n",
        "\n",
        "result = soup.find_all(attrs = {'class':'api_txt_lines total_tit'})     # list\n",
        "\n",
        "for i in result:\n",
        "    print(i.get_text())     # 텍스트(글 제목)\n",
        "    print(i.attrs['href'])  # href 속성의 값(링크 주소)"
      ]
    }
  ]
}
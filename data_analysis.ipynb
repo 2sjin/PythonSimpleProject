{
  "cells": [
    {
      "cell_type": "markdown",
      "metadata": {
        "id": "view-in-github",
        "colab_type": "text"
      },
      "source": [
        "<a href=\"https://colab.research.google.com/github/2sjin/Python_Programming_Practice/blob/main/data_analysis.ipynb\" target=\"_parent\"><img src=\"https://colab.research.google.com/assets/colab-badge.svg\" alt=\"Open In Colab\"/></a>"
      ]
    },
    {
      "cell_type": "code",
      "execution_count": null,
      "metadata": {
        "colab": {
          "base_uri": "https://localhost:8080/"
        },
        "id": "Mix78NtP4YdS",
        "outputId": "a9035c54-db5c-4e1d-fd7b-5fc760801dfc"
      },
      "outputs": [
        {
          "name": "stdout",
          "output_type": "stream",
          "text": [
            "(1, 2, 3, 4, 5, 6)\n",
            "(1, 2, 3, 1, 2, 3, 1, 2, 3, 1, 2, 3, 1, 2, 3)\n"
          ]
        }
      ],
      "source": [
        "a = (1, 2, [3, 4, 5], (6, 7, 8), '가', '나', '다')\n",
        "\n",
        "# for x in a:\n",
        "#   print(x)\n",
        "\n",
        "# print(a[2][1])\n",
        "\n",
        "a = (1, 2, 3)\n",
        "b = (4, 5, 6)\n",
        "\n",
        "print (a + b)   # 튜플의 결합\n",
        "print (a * 5)   # 튜플의 반복\n",
        "\n"
      ]
    },
    {
      "cell_type": "code",
      "execution_count": null,
      "metadata": {
        "colab": {
          "base_uri": "https://localhost:8080/"
        },
        "id": "8mAqv_2i6JRy",
        "outputId": "31b73c03-a0da-4481-df2c-0587e0afaaea"
      },
      "outputs": [
        {
          "name": "stdout",
          "output_type": "stream",
          "text": [
            "(1, 2, 3)\n",
            "(1,)\n"
          ]
        }
      ],
      "source": [
        "a = 1, 2, 3\n",
        "print(a)\n",
        "\n",
        "a = 1,\n",
        "print(a)"
      ]
    },
    {
      "cell_type": "code",
      "execution_count": null,
      "metadata": {
        "colab": {
          "base_uri": "https://localhost:8080/"
        },
        "id": "rHJVKAZR6Zoi",
        "outputId": "a3850099-e70c-4fbc-f7d4-4da8c91198d1"
      },
      "outputs": [
        {
          "name": "stdout",
          "output_type": "stream",
          "text": [
            "a = {1, 2, 3}\n",
            "b = {1, 2, 3}\n",
            "c = {1, 2, 3}\n",
            "True\n",
            "True\n",
            "True\n"
          ]
        }
      ],
      "source": [
        "a = {1, 2, 3}\n",
        "b = {1, 1, 2, 2, 3, 3}\n",
        "c = {2, 3, 1}\n",
        "\n",
        "print(\"a =\", a)\n",
        "print(\"b =\", b)\n",
        "print(\"c =\", c)\n",
        "\n",
        "print(a == b)\n",
        "print(b == c)\n",
        "print(c == a)"
      ]
    },
    {
      "cell_type": "code",
      "execution_count": null,
      "metadata": {
        "colab": {
          "base_uri": "https://localhost:8080/"
        },
        "id": "Oet6MOKk7L8S",
        "outputId": "98781dce-cd73-450a-deb3-02655f4236f2"
      },
      "outputs": [
        {
          "name": "stdout",
          "output_type": "stream",
          "text": [
            "['p', 'y', 't', 'h', 'o', 'n', 'p', 'y', 't', 'h', 'o', 'n']\n",
            "('p', 'y', 't', 'h', 'o', 'n', 'p', 'y', 't', 'h', 'o', 'n')\n",
            "['n', 'p', 'h', 'y', 'o', 't']\n"
          ]
        }
      ],
      "source": [
        "a = list('pythonpython')\n",
        "b = tuple('pythonpython')\n",
        "c = set('pythonpython')\n",
        "print(a)\n",
        "print(b)\n",
        "print(c)"
      ]
    },
    {
      "cell_type": "code",
      "execution_count": null,
      "metadata": {
        "colab": {
          "base_uri": "https://localhost:8080/"
        },
        "id": "bL2h-SGZ7sBg",
        "outputId": "ba594025-fc2c-4647-c498-5e6575f673ed"
      },
      "outputs": [
        {
          "name": "stdout",
          "output_type": "stream",
          "text": [
            "[1, 2, 3, 4, 5]\n"
          ]
        }
      ],
      "source": [
        "a = [1, 1, 1, 2, 2, 3, 3, 3, 4, 4, 5]\n",
        "a = list(set(a))\n",
        "print(a)"
      ]
    },
    {
      "cell_type": "code",
      "execution_count": null,
      "metadata": {
        "colab": {
          "base_uri": "https://localhost:8080/"
        },
        "id": "mkAM0T7n8gEJ",
        "outputId": "456030b9-6a9d-404c-9f5c-44fa823cd7c2"
      },
      "outputs": [
        {
          "name": "stdout",
          "output_type": "stream",
          "text": [
            "{1, 2, 3, 4, 5, 6, 7}\n",
            "{3, 4, 5}\n",
            "{1, 2}\n"
          ]
        }
      ],
      "source": [
        "a = {1, 2, 3, 4, 5}\n",
        "b = {3, 4, 5, 6, 7}\n",
        "\n",
        "print(a | b)\n",
        "print(a & b)\n",
        "print(a - b)"
      ]
    },
    {
      "cell_type": "code",
      "execution_count": null,
      "metadata": {
        "colab": {
          "base_uri": "https://localhost:8080/"
        },
        "id": "vCfs-aIA9BgM",
        "outputId": "5149accb-01d1-4b46-cbb3-b8a31ab72c60"
      },
      "outputs": [
        {
          "name": "stdout",
          "output_type": "stream",
          "text": [
            "dict_keys(['새우깡', '감자깡', '고구마깡'])\n",
            "dict_values([1000, 1500, 2000])\n",
            "dict_items([('새우깡', 1000), ('감자깡', 1500), ('고구마깡', 2000)])\n"
          ]
        }
      ],
      "source": [
        "price = {'새우깡':1000, '감자깡':1500, '고구마깡':2000}\n",
        "\n",
        "# print(len(price))\n",
        "\n",
        "# print(price['새우깡'])\n",
        "\n",
        "print(price.keys())\n",
        "print(price.values())\n",
        "\n",
        "items = price.items()\n",
        "print(items)\n"
      ]
    },
    {
      "cell_type": "code",
      "execution_count": null,
      "metadata": {
        "colab": {
          "base_uri": "https://localhost:8080/"
        },
        "id": "daXl2QmJ_7iW",
        "outputId": "1b21bfef-79cd-47ac-cbc0-a51e48203579"
      },
      "outputs": [
        {
          "name": "stdout",
          "output_type": "stream",
          "text": [
            "첫 번째 정수 입력: 1.1234\n",
            "두 번째 정수 입력: 2.2222\n",
            "<class 'float'>\n",
            "<class 'float'>\n",
            "1와(과) 2의 합은 3입니다.\n"
          ]
        }
      ],
      "source": [
        "num1 = float(input(\"첫 번째 정수 입력: \"))\n",
        "num2 = float(input(\"두 번째 정수 입력: \"))\n",
        "\n",
        "print(type(num1))\n",
        "print(type(num2))\n",
        "\n",
        "sum = num1 + num2\n",
        "\n",
        "# print(num1, '와(과)', num2, '의 합은', sum, '입니다.')\n",
        "# print(str(num1) + '와(과)' + str(num2) + '의 합은' + str(sum) + '입니다.')\n",
        "print('{:,.0f}와(과) {:,.0f}의 합은 {:,.0f}입니다.'.format(num1, num2, sum))\n",
        "# print('%d와(과) %d의 합은 %d입니다.' % (num1, num2, sum)\n",
        "\n"
      ]
    },
    {
      "cell_type": "code",
      "execution_count": null,
      "metadata": {
        "id": "fi5Kdt2QOD3f"
      },
      "outputs": [],
      "source": []
    },
    {
      "cell_type": "code",
      "execution_count": null,
      "metadata": {
        "colab": {
          "base_uri": "https://localhost:8080/"
        },
        "id": "l5XtYQvPLkxt",
        "outputId": "e8b54eb2-ab34-4bfd-887b-ec18071bc0e1"
      },
      "outputs": [
        {
          "name": "stdout",
          "output_type": "stream",
          "text": [
            "체중(kg): 1\n",
            "신장(m): 1\n",
            "체중은 1.0kg, 신장은 1.0m, BMI지수는 1.00 입니다.\n"
          ]
        }
      ],
      "source": [
        "weight = float(input(\"체중(kg): \"))\n",
        "height = float(input(\"신장(m): \"))\n",
        "\n",
        "if height >= 10.0:\n",
        "  print(\"{}(cm) -> {}(m)\".format(height, height/100))\n",
        "  height /= 100\n",
        "\n",
        "bmi = weight / (height**2)\n",
        "print(\"체중은 {}kg, 신장은 {}m, BMI지수는 {:.2f} 입니다.\".format(weight, height, bmi))"
      ]
    },
    {
      "cell_type": "code",
      "execution_count": null,
      "metadata": {
        "colab": {
          "base_uri": "https://localhost:8080/"
        },
        "id": "vX0DK27gMK6R",
        "outputId": "6d65ccaa-3f9e-4bcd-c4e4-43ec927a9e33"
      },
      "outputs": [
        {
          "name": "stdout",
          "output_type": "stream",
          "text": [
            "['False', 'None', 'True', 'and', 'as', 'assert', 'async', 'await', 'break', 'class', 'continue', 'def', 'del', 'elif', 'else', 'except', 'finally', 'for', 'from', 'global', 'if', 'import', 'in', 'is', 'lambda', 'nonlocal', 'not', 'or', 'pass', 'raise', 'return', 'try', 'while', 'with', 'yield']\n",
            "False\n",
            "None\n",
            "True\n",
            "and\n",
            "as\n",
            "assert\n",
            "async\n",
            "await\n",
            "break\n",
            "class\n",
            "continue\n",
            "def\n",
            "del\n",
            "elif\n",
            "else\n",
            "except\n",
            "finally\n",
            "for\n",
            "from\n",
            "global\n",
            "if\n",
            "import\n",
            "in\n",
            "is\n",
            "lambda\n",
            "nonlocal\n",
            "not\n",
            "or\n",
            "pass\n",
            "raise\n",
            "return\n",
            "try\n",
            "while\n",
            "with\n",
            "yield\n"
          ]
        }
      ],
      "source": [
        "import keyword\n",
        "\n",
        "print(keyword.kwlist)\n",
        "\n",
        "for x in keyword.kwlist:\n",
        "  print(x)"
      ]
    },
    {
      "cell_type": "code",
      "execution_count": null,
      "metadata": {
        "colab": {
          "base_uri": "https://localhost:8080/"
        },
        "id": "emvzx-SaO3v1",
        "outputId": "11b38504-1e93-4089-8766-56a5ada4fb70"
      },
      "outputs": [
        {
          "data": {
            "text/plain": [
              "False"
            ]
          },
          "execution_count": 116,
          "metadata": {},
          "output_type": "execute_result"
        }
      ],
      "source": [
        "(100 == 130) and (150 > 130)"
      ]
    },
    {
      "cell_type": "code",
      "execution_count": null,
      "metadata": {
        "colab": {
          "base_uri": "https://localhost:8080/"
        },
        "id": "E7mAnH6dT8-F",
        "outputId": "b3b3d782-f7f0-4bec-c35d-38309fd223c1"
      },
      "outputs": [
        {
          "name": "stdout",
          "output_type": "stream",
          "text": [
            "펜의 개수를 입력: 10\n",
            "노트의 개수를 입력: 10\n",
            "총 구매금액(10% 할인)은 27,000원 입니다.\n"
          ]
        }
      ],
      "source": [
        "pen_unit_price = 2000\n",
        "note_unit_price = 1000\n",
        "\n",
        "pen_count = int(input(\"펜의 개수를 입력: \"))\n",
        "note_count = int(input(\"노트의 개수를 입력: \"))\n",
        "\n",
        "total_price = (pen_count * pen_unit_price) + (note_count * note_unit_price)\n",
        "\n",
        "if total_price > 15000:\n",
        "    total_price *= 0.9\n",
        "    print(\"총 구매금액(10% 할인)은 {:,.0f}원 입니다.\".format(total_price))\n",
        "else:\n",
        "    print(\"총 구매금액은 {:,.0f}원 입니다.\".format(total_price))"
      ]
    },
    {
      "cell_type": "code",
      "execution_count": null,
      "metadata": {
        "id": "RI5zGQrxWqmk"
      },
      "outputs": [],
      "source": [
        "while True:\n",
        "    score = float(input(\"점수 입력: \"))\n",
        "\n",
        "    if score >= 90:\n",
        "        print(\"A등급\")\n",
        "    elif score >= 80:\n",
        "        print(\"B등급\")\n",
        "    elif score >= 70:\n",
        "        print(\"C등급\")\n",
        "    elif score >= 60:\n",
        "        print(\"D등급\")\n",
        "    else:\n",
        "        print(\"E등급\")"
      ]
    },
    {
      "cell_type": "code",
      "execution_count": null,
      "metadata": {
        "colab": {
          "base_uri": "https://localhost:8080/"
        },
        "id": "v7ieAeiBYYou",
        "outputId": "da70d524-1bb2-4d7a-fa32-c771136baaee"
      },
      "outputs": [
        {
          "name": "stdout",
          "output_type": "stream",
          "text": [
            "과목 1의 점수: 333\n",
            "과목 2의 점수: 222\n",
            "과목 3의 점수: 444\n",
            "총점: 999\n",
            "합격\n"
          ]
        }
      ],
      "source": [
        "score1 = int(input(\"과목 1의 점수: \"))\n",
        "score2 = int(input(\"과목 2의 점수: \"))\n",
        "score3 = int(input(\"과목 3의 점수: \"))\n",
        "\n",
        "total_score = score1 + score2 + score3\n",
        "\n",
        "print(\"총점: {:.0f}\".format(total_score))\n",
        "\n",
        "if total_score < 180:\n",
        "    print(\"불합격(총점미달)\")\n",
        "elif score1 < 40 or score2 < 40 or score3 < 40:\n",
        "    print(\"불합격(과락)\")\n",
        "else:\n",
        "    print(\"합격\")"
      ]
    },
    {
      "cell_type": "code",
      "execution_count": null,
      "metadata": {
        "id": "KFgzLj-iWow2"
      },
      "outputs": [],
      "source": [
        "# 실습 8\n",
        "# 실습 11"
      ]
    },
    {
      "cell_type": "code",
      "execution_count": null,
      "metadata": {
        "colab": {
          "base_uri": "https://localhost:8080/"
        },
        "id": "4Itf-9kWa9gb",
        "outputId": "9c180fc0-92d6-4f84-fadd-88ca1cb161fb"
      },
      "outputs": [
        {
          "name": "stdout",
          "output_type": "stream",
          "text": [
            "0\n",
            "1\n",
            "2\n",
            "3\n",
            "4\n",
            "5\n",
            "6\n",
            "7\n",
            "8\n",
            "9\n"
          ]
        }
      ],
      "source": [
        "for i in range(10):\n",
        "    print(i)"
      ]
    },
    {
      "cell_type": "code",
      "execution_count": null,
      "metadata": {
        "colab": {
          "base_uri": "https://localhost:8080/"
        },
        "id": "poaLxMBWfljO",
        "outputId": "58a7f3f1-beba-4570-b10a-4aa72b2cd7a3"
      },
      "outputs": [
        {
          "name": "stdout",
          "output_type": "stream",
          "text": [
            "1\n",
            "2\n",
            "3\n",
            "4\n",
            "5\n",
            "6\n",
            "7\n",
            "8\n",
            "9\n",
            "10\n"
          ]
        }
      ],
      "source": [
        "for i in range(1, 11):\n",
        "    print(i)"
      ]
    },
    {
      "cell_type": "code",
      "execution_count": null,
      "metadata": {
        "colab": {
          "base_uri": "https://localhost:8080/"
        },
        "id": "e_jgunT1fq25",
        "outputId": "27f81e15-7c94-470a-a431-43a2ce59816e"
      },
      "outputs": [
        {
          "name": "stdout",
          "output_type": "stream",
          "text": [
            "0\n",
            "2\n",
            "4\n",
            "6\n",
            "8\n",
            "10\n"
          ]
        }
      ],
      "source": [
        "for i in range(0, 11, 2):\n",
        "    print(i)"
      ]
    },
    {
      "cell_type": "code",
      "execution_count": null,
      "metadata": {
        "colab": {
          "base_uri": "https://localhost:8080/"
        },
        "id": "Lobo8PlKg1u0",
        "outputId": "b587a04e-ea65-49b0-b195-9d894712496b"
      },
      "outputs": [
        {
          "name": "stdout",
          "output_type": "stream",
          "text": [
            "반복할 횟수 입력: 10\n",
            "0 Hello, Python!\n",
            "1 Hello, Python!\n",
            "2 Hello, Python!\n",
            "3 Hello, Python!\n",
            "4 Hello, Python!\n",
            "5 Hello, Python!\n",
            "6 Hello, Python!\n",
            "7 Hello, Python!\n",
            "8 Hello, Python!\n",
            "9 Hello, Python!\n"
          ]
        }
      ],
      "source": [
        "count = int(input('반복할 횟수 입력: '))\n",
        "\n",
        "for i in range(count):\n",
        "    print(i, 'Hello, Python!')"
      ]
    },
    {
      "cell_type": "code",
      "execution_count": null,
      "metadata": {
        "colab": {
          "base_uri": "https://localhost:8080/"
        },
        "id": "cf6vHwTHhQFB",
        "outputId": "0b865c0c-2489-4040-ea53-60d69de65b34"
      },
      "outputs": [
        {
          "name": "stdout",
          "output_type": "stream",
          "text": [
            "저는 사과를(을) 무척 좋아합니다.\n",
            "저는 딸기를(을) 무척 좋아합니다.\n",
            "저는 바나나를(을) 무척 좋아합니다.\n",
            "저는 수박를(을) 무척 좋아합니다.\n",
            "저는 복숭아를(을) 무척 좋아합니다.\n"
          ]
        }
      ],
      "source": [
        "string = ['사과', '딸기', '바나나', '수박', '복숭아']\n",
        "\n",
        "for i in string:\n",
        "    print('저는 {}를(을) 무척 좋아합니다.'.format(i))"
      ]
    },
    {
      "cell_type": "code",
      "execution_count": null,
      "metadata": {
        "colab": {
          "base_uri": "https://localhost:8080/"
        },
        "id": "k_DxnUP8iuGn",
        "outputId": "2d41e9bb-8bcb-4fad-e92a-bb4fc0c6fc61"
      },
      "outputs": [
        {
          "name": "stdout",
          "output_type": "stream",
          "text": [
            "임의의 문자열 입력: python\n",
            "p-y-t-h-o-n-"
          ]
        }
      ],
      "source": [
        "string = input(\"임의의 문자열 입력: \")\n",
        "\n",
        "for i in string:\n",
        "    print(i, end='-')"
      ]
    },
    {
      "cell_type": "code",
      "execution_count": null,
      "metadata": {
        "id": "X5Fn1ex_jRrM"
      },
      "outputs": [],
      "source": [
        "for dan in range(2, 10):\n",
        "    for i in range(1, 10):\n",
        "        print(\"{} x {} = {}\".format(dan, i, dan*i))"
      ]
    },
    {
      "cell_type": "code",
      "execution_count": null,
      "metadata": {
        "colab": {
          "base_uri": "https://localhost:8080/"
        },
        "id": "LGlvms0zlDYK",
        "outputId": "cf93a756-15bb-4df8-85de-515e38faa5a6"
      },
      "outputs": [
        {
          "name": "stdout",
          "output_type": "stream",
          "text": [
            "정수 입력: 10000\n",
            "50005000\n"
          ]
        }
      ],
      "source": [
        "i = 1\n",
        "sum = 0\n",
        "\n",
        "number = int(input(\"정수 입력: \"))\n",
        "\n",
        "while i <= number:\n",
        "    sum += i\n",
        "    i += 1\n",
        "\n",
        "print(sum)"
      ]
    },
    {
      "cell_type": "code",
      "execution_count": null,
      "metadata": {
        "id": "jDmRSUU8mfjH"
      },
      "outputs": [],
      "source": [
        "number = int(input('숫자를 입력: '))\n",
        "\n",
        "if number % 2 == 0:\n",
        "    print('짝수 입니다.')\n",
        "else:\n",
        "    print('홀수 입니다.')"
      ]
    },
    {
      "cell_type": "code",
      "execution_count": null,
      "metadata": {
        "colab": {
          "base_uri": "https://localhost:8080/"
        },
        "id": "hNrvsn5km5ay",
        "outputId": "46da8fa7-b801-45d2-d3d4-d2da98ef5465"
      },
      "outputs": [
        {
          "name": "stdout",
          "output_type": "stream",
          "text": [
            "0 1 2 3 4 5 6 7 8 9 "
          ]
        }
      ],
      "source": [
        "i = 0\n",
        "\n",
        "while True:\n",
        "    print(i, end=' ')\n",
        "    i += 1\n",
        "    if i == 10:\n",
        "        break\n",
        "    "
      ]
    },
    {
      "cell_type": "code",
      "execution_count": null,
      "metadata": {
        "colab": {
          "base_uri": "https://localhost:8080/"
        },
        "id": "Qu_OU0Gdneub",
        "outputId": "dee3ee7a-94c0-4eb1-cf14-75eea96e2dbc"
      },
      "outputs": [
        {
          "name": "stdout",
          "output_type": "stream",
          "text": [
            "1 3 5 7 9 11 13 15 17 19 21 23 25 27 29 31 33 35 37 39 41 43 45 47 49 51 53 55 57 59 61 63 65 67 69 71 73 75 77 79 81 83 85 87 89 91 93 95 97 99 "
          ]
        }
      ],
      "source": [
        "for i in range(1, 100):\n",
        "    if i % 2 == 0:\n",
        "        continue\n",
        "        print(\"-------\")\n",
        "    print(i, end=' ')"
      ]
    },
    {
      "cell_type": "code",
      "execution_count": null,
      "metadata": {
        "id": "vKx8fqhloFwC"
      },
      "outputs": [],
      "source": [
        "def c_area(radius):     # radius는 매개변수(parameter)\n",
        "    result = 3.14 * radius * radius\n",
        "    return print('원의 넓이는 {}입니다.'.format(result))"
      ]
    },
    {
      "cell_type": "code",
      "execution_count": null,
      "metadata": {
        "colab": {
          "base_uri": "https://localhost:8080/"
        },
        "id": "ZFTV4Nu_pHfi",
        "outputId": "6b930b65-42e9-45c8-a375-e79ff13bbf62"
      },
      "outputs": [
        {
          "name": "stdout",
          "output_type": "stream",
          "text": [
            "원의 넓이는 31400.0입니다.\n"
          ]
        }
      ],
      "source": [
        "c_area(100)     # 100은 인수(argument)"
      ]
    },
    {
      "cell_type": "code",
      "execution_count": null,
      "metadata": {
        "id": "K_YFCfYypuMr"
      },
      "outputs": [],
      "source": [
        "def exchange(won):\n",
        "    dollar = won / 1300\n",
        "    return print('{:,.0f}원은 {:,.0f}달러입니다.'.format(won, dollar))"
      ]
    },
    {
      "cell_type": "code",
      "execution_count": null,
      "metadata": {
        "colab": {
          "base_uri": "https://localhost:8080/"
        },
        "id": "17t1kYCMqGx4",
        "outputId": "d22c36b2-1feb-412e-b908-53c5031d257e"
      },
      "outputs": [
        {
          "name": "stdout",
          "output_type": "stream",
          "text": [
            "입력(원): 1000\n",
            "1,000원은 1달러입니다.\n"
          ]
        }
      ],
      "source": [
        "won = int(input(\"입력(원): \"))\n",
        "exchange(won)"
      ]
    },
    {
      "cell_type": "code",
      "execution_count": null,
      "metadata": {
        "id": "KhBjRWcAAUjv"
      },
      "outputs": [],
      "source": [
        "def dest(d):\n",
        "    if d == '서울':\n",
        "        a = 10000\n",
        "    elif d == '대전':\n",
        "        a = 8000\n",
        "    elif d == '대구':\n",
        "        a = 6000\n",
        "    elif d == '울산':\n",
        "        a = 4000\n",
        "    else:\n",
        "        a = 2000\n",
        "    return a\n",
        "\n",
        "def kinds(k):\n",
        "    if k == 'KTX':\n",
        "        b = 5000\n",
        "    elif k == '새마을호':\n",
        "        b = 4000\n",
        "    elif k == '무궁화호':\n",
        "        b = 3000\n",
        "    else:\n",
        "        b = 2000\n",
        "    return b\n",
        "\n",
        "def seat(s):\n",
        "    if s == '입석':\n",
        "        c = 0\n",
        "    else:\n",
        "        c = 5000\n",
        "    return c\n",
        "\n",
        "def payment(a, b, c):\n",
        "    total = a + b + c\n",
        "    return print('지불하실 총 기차요금은 {}원 입니다.'.format(total))"
      ]
    },
    {
      "cell_type": "code",
      "execution_count": null,
      "metadata": {
        "colab": {
          "base_uri": "https://localhost:8080/"
        },
        "id": "IDEf5NuED6DJ",
        "outputId": "ff95659c-cae1-472e-848f-f0b65e3dde2e"
      },
      "outputs": [
        {
          "name": "stdout",
          "output_type": "stream",
          "text": [
            "1. 목적지 입력:\n",
            "서울/대전/대구/울산/부산\n",
            "대전\n",
            "2. 열차종류 입력:\n",
            "KTX/새마을호/무궁화호/통일호\n",
            "통일호\n",
            "3. 좌석종류 입력:\n",
            "입석/좌석\n",
            "좌석\n",
            "==============================\n",
            "대전 8000\n",
            "통일호 2000\n",
            "좌석 5000\n",
            "==============================\n",
            "지불하실 총 기차요금은 15000원 입니다.\n"
          ]
        }
      ],
      "source": [
        "d = input(\"1. 목적지 입력:\\n서울/대전/대구/울산/부산\\n\")\n",
        "a = dest(d)\n",
        "\n",
        "k = input(\"2. 열차종류 입력:\\nKTX/새마을호/무궁화호/통일호\\n\")\n",
        "b = kinds(k)\n",
        "\n",
        "s = input(\"3. 좌석종류 입력:\\n입석/좌석\\n\")\n",
        "c = seat(s)\n",
        "\n",
        "print(\"=\" * 30)\n",
        "\n",
        "print(d, a)\n",
        "print(k, b)\n",
        "print(s, c)\n",
        "\n",
        "print(\"=\" * 30)\n",
        "\n",
        "payment(a, b, c)\n"
      ]
    },
    {
      "cell_type": "code",
      "execution_count": null,
      "metadata": {
        "id": "M_ZmvY0lGEwm"
      },
      "outputs": [],
      "source": [
        "def get_price(t, s):\n",
        "    menu = {\"아메리카노\":2000, \"카페라떼\":2500, \"카푸치노\":3000}\n",
        "    size = {\"스몰\":0, \"레귤러\":500, \"라지\":1000}\n",
        "    total = menu[t] + size[s]\n",
        "    return total"
      ]
    },
    {
      "cell_type": "code",
      "execution_count": null,
      "metadata": {
        "colab": {
          "base_uri": "https://localhost:8080/"
        },
        "id": "BKlfuXCGI2gs",
        "outputId": "ccf47105-a093-45d3-d076-aff1d37b475d"
      },
      "outputs": [
        {
          "name": "stdout",
          "output_type": "stream",
          "text": [
            "1. 음료의 종류 입력:\n",
            "아메리카노/카페라떼/카푸치노\n",
            "카푸치노\n",
            "2. 음료의 크기 입력:\n",
            "스몰/레귤러/라지\n",
            "라지\n",
            "\n",
            "지불 금액: 4000\n"
          ]
        }
      ],
      "source": [
        "t = input(\"1. 음료의 종류 입력:\\n아메리카노/카페라떼/카푸치노\\n\")\n",
        "s = input(\"2. 음료의 크기 입력:\\n스몰/레귤러/라지\\n\")\n",
        "total = get_price(t, s)\n",
        "print(\"\\n지불 금액: {}\".format(total))"
      ]
    },
    {
      "cell_type": "markdown",
      "metadata": {
        "id": "9ejqIn7DQveJ"
      },
      "source": [
        "표기법(Notation)\n",
        "1. Snake Case :   my_first_project\n",
        "2. Camel Case :   myFirstProject\n",
        "3. Pascal Case :  MyFirstProject"
      ]
    },
    {
      "cell_type": "code",
      "execution_count": null,
      "metadata": {
        "colab": {
          "base_uri": "https://localhost:8080/"
        },
        "id": "FnxpgdPXQvOM",
        "outputId": "2e844b47-d5a8-4522-ed9c-ce7ae5f74d95"
      },
      "outputs": [
        {
          "name": "stdout",
          "output_type": "stream",
          "text": [
            "120\n"
          ]
        }
      ],
      "source": [
        "import math\n",
        "n = math.factorial(5)\n",
        "print(n)"
      ]
    },
    {
      "cell_type": "code",
      "execution_count": null,
      "metadata": {
        "colab": {
          "base_uri": "https://localhost:8080/"
        },
        "id": "j-tDy5ueR_yh",
        "outputId": "7fa18b4a-92c2-4cf1-cedc-478d9c87d0b5"
      },
      "outputs": [
        {
          "name": "stdout",
          "output_type": "stream",
          "text": [
            "20.0\n"
          ]
        }
      ],
      "source": [
        "from math import factorial\n",
        "n = factorial(5) / factorial(3)\n",
        "print(n)"
      ]
    },
    {
      "cell_type": "code",
      "execution_count": null,
      "metadata": {
        "colab": {
          "base_uri": "https://localhost:8080/"
        },
        "id": "xen6Tl5dSml5",
        "outputId": "2db37330-2d66-4af8-f2ae-7271207a8c64"
      },
      "outputs": [
        {
          "name": "stdout",
          "output_type": "stream",
          "text": [
            "6.0\n"
          ]
        }
      ],
      "source": [
        "from math import (factorial, acos)\n",
        "n = factorial(3) + acos(1)\n",
        "print(n)"
      ]
    },
    {
      "cell_type": "code",
      "execution_count": null,
      "metadata": {
        "colab": {
          "base_uri": "https://localhost:8080/"
        },
        "id": "_4uoV58dSzi0",
        "outputId": "4b0a6f86-1972-443f-d47c-36e0511c1d0f"
      },
      "outputs": [
        {
          "name": "stdout",
          "output_type": "stream",
          "text": [
            "14.73606797749979\n"
          ]
        }
      ],
      "source": [
        "from math import *\n",
        "n = sqrt(5) + fabs(-12.5)\n",
        "print(n)"
      ]
    },
    {
      "cell_type": "code",
      "execution_count": null,
      "metadata": {
        "id": "OTTn7MIgTUwM"
      },
      "outputs": [],
      "source": [
        "dir(math)"
      ]
    },
    {
      "cell_type": "code",
      "execution_count": null,
      "metadata": {
        "colab": {
          "base_uri": "https://localhost:8080/"
        },
        "id": "duUJCL7iVZYT",
        "outputId": "9b163387-a0aa-412c-ba1d-859d7ed12c52"
      },
      "outputs": [
        {
          "name": "stdout",
          "output_type": "stream",
          "text": [
            "********\n",
            "숫자 입력(1~10): 8\n",
            "정답입니다.\n"
          ]
        }
      ],
      "source": [
        "import random\n",
        "\n",
        "number = random.randint(1, 10)\n",
        "print(\"*\" * number)\n",
        "\n",
        "while True:\n",
        "    guess = int(input(\"숫자 입력(1~10): \"))\n",
        "    if guess == number:\n",
        "        print(\"정답입니다.\")\n",
        "        break\n",
        "    else:\n",
        "        print(\"오답입니다.\")\n"
      ]
    },
    {
      "cell_type": "code",
      "execution_count": null,
      "metadata": {
        "colab": {
          "base_uri": "https://localhost:8080/"
        },
        "id": "WPHcx0C3V0ZV",
        "outputId": "07fb4932-1646-4909-87be-1676891839de"
      },
      "outputs": [
        {
          "name": "stdout",
          "output_type": "stream",
          "text": [
            "d\n",
            "알파벳 입력(a~j): a\n",
            "오답입니다.\n",
            "알파벳 입력(a~j): b\n",
            "오답입니다.\n",
            "알파벳 입력(a~j): c\n",
            "오답입니다.\n",
            "알파벳 입력(a~j): d\n",
            "정답입니다.\n"
          ]
        }
      ],
      "source": [
        "import random\n",
        "\n",
        "alphabet = 'abcdefghij'\n",
        "\n",
        "string = random.choice(alphabet)\n",
        "print(string)\n",
        "\n",
        "while True:\n",
        "    guess = input(\"알파벳 입력(a~j): \")\n",
        "    if string == guess:\n",
        "        print(\"정답입니다.\")\n",
        "        break\n",
        "    else:\n",
        "        print(\"오답입니다.\")"
      ]
    },
    {
      "cell_type": "code",
      "execution_count": null,
      "metadata": {
        "colab": {
          "base_uri": "https://localhost:8080/"
        },
        "id": "gfHtPWhCWYTg",
        "outputId": "8bb4c8d8-ed35-42df-9ea1-5a09f6261c79"
      },
      "outputs": [
        {
          "name": "stdout",
          "output_type": "stream",
          "text": [
            "[3, 5, 4, 1, 2]\n",
            "[2, 5, 1, 3, 4]\n",
            "[5, 2, 3, 4, 1]\n",
            "[1, 2, 4, 5, 3]\n",
            "[2, 3, 4, 5, 1]\n",
            "[1, 3, 5, 2, 4]\n",
            "[2, 1, 3, 5, 4]\n",
            "[2, 3, 1, 5, 4]\n",
            "[3, 5, 1, 4, 2]\n",
            "[2, 1, 5, 4, 3]\n"
          ]
        }
      ],
      "source": [
        "import random as rd\n",
        "\n",
        "items = [1, 2, 3, 4, 5]\n",
        "\n",
        "for i in range(10):\n",
        "    rd.shuffle(items)\n",
        "    print(items)"
      ]
    },
    {
      "cell_type": "code",
      "execution_count": null,
      "metadata": {
        "id": "FtZgyriUXHOt"
      },
      "outputs": [],
      "source": [
        "import numpy as np\n",
        "import pandas as pd\n",
        "import seaborn as sns"
      ]
    },
    {
      "cell_type": "code",
      "execution_count": null,
      "metadata": {
        "id": "T-tPbxOpbPb_"
      },
      "outputs": [],
      "source": [
        "file = open('python.txt', 'w')\n",
        "file.write('Hello, Python!')\n",
        "file.close()"
      ]
    },
    {
      "cell_type": "code",
      "execution_count": null,
      "metadata": {
        "colab": {
          "base_uri": "https://localhost:8080/"
        },
        "id": "bKtaDombcR3R",
        "outputId": "a270a02e-41be-42a4-d7dc-7ed735217e4a"
      },
      "outputs": [
        {
          "name": "stdout",
          "output_type": "stream",
          "text": [
            "Hello, Python!I love Python!\n"
          ]
        }
      ],
      "source": [
        "f = open('python.txt', 'r')\n",
        "s = f.read()\n",
        "print(s)\n",
        "f.close()"
      ]
    },
    {
      "cell_type": "code",
      "execution_count": null,
      "metadata": {
        "id": "5SX4p50Ecyna"
      },
      "outputs": [],
      "source": [
        "file = open('python.txt', 'a')\n",
        "file.write('I love Python!')\n",
        "file.close()"
      ]
    },
    {
      "cell_type": "code",
      "execution_count": null,
      "metadata": {
        "colab": {
          "base_uri": "https://localhost:8080/"
        },
        "id": "W308FQiZc7mT",
        "outputId": "49c83d0b-f31d-4ed6-8e69-b4ceb9bd3928"
      },
      "outputs": [
        {
          "name": "stdout",
          "output_type": "stream",
          "text": [
            "Hello, Python!I love Python!\n"
          ]
        }
      ],
      "source": [
        "f = open('python.txt', 'r')\n",
        "print(f.read())\n",
        "f.close()"
      ]
    },
    {
      "cell_type": "code",
      "execution_count": null,
      "metadata": {
        "id": "xbdZOdIIdUI_"
      },
      "outputs": [],
      "source": [
        "lines = ['Python\\n', 'Swift\\n', 'Java\\n', 'Kotlin\\n']\n",
        "\n",
        "# 파일 close()를 하지 않아도 됨\n",
        "with open('language.txt', 'w') as f:\n",
        "    f.writelines(lines)"
      ]
    },
    {
      "cell_type": "code",
      "execution_count": null,
      "metadata": {
        "colab": {
          "base_uri": "https://localhost:8080/"
        },
        "id": "sQ4bkji-eBce",
        "outputId": "1819da28-3c0b-450f-9ea2-36496318b67a"
      },
      "outputs": [
        {
          "name": "stdout",
          "output_type": "stream",
          "text": [
            "['Python\\n', 'Swift\\n', 'Java\\n', 'Kotlin\\n']\n",
            "Python\n",
            "Swift\n",
            "Java\n",
            "Kotlin\n"
          ]
        }
      ],
      "source": [
        "with open('language.txt', 'r') as f:\n",
        "    lines = f.readlines()\n",
        "    print(lines)\n",
        "    for li in lines:\n",
        "        print(li, end=\"\")"
      ]
    },
    {
      "cell_type": "code",
      "execution_count": null,
      "metadata": {
        "colab": {
          "base_uri": "https://localhost:8080/"
        },
        "id": "Z3e-UGJQepbW",
        "outputId": "033969c3-e469-4440-8409-a81e5ac6d338"
      },
      "outputs": [
        {
          "name": "stdout",
          "output_type": "stream",
          "text": [
            "Python\n",
            "Swift\n",
            "Java\n",
            "Kotlin\n"
          ]
        }
      ],
      "source": [
        "with open('language.txt', 'r') as f:\n",
        "    while True:\n",
        "        lines = f.readline()\n",
        "        if lines == \"\":\n",
        "            break\n",
        "        print(lines, end=\"\")\n",
        "        "
      ]
    },
    {
      "cell_type": "code",
      "execution_count": null,
      "metadata": {
        "colab": {
          "base_uri": "https://localhost:8080/"
        },
        "id": "emz9zMhkfc5v",
        "outputId": "98bf2ce4-7c17-4bb4-e16a-dcd9bd2cf555"
      },
      "outputs": [
        {
          "name": "stdout",
          "output_type": "stream",
          "text": [
            "나누고자 하는 숫자 입력: 50\n",
            "계산 결과: 2.0\n",
            "==============================\n",
            "나누고자 하는 숫자 입력: hello\n",
            "예외 발생! 0이 아닌 실수를 입력하세요.\n",
            "==============================\n"
          ]
        }
      ],
      "source": [
        "while True:\n",
        "    try:\n",
        "        x = float(input('나누고자 하는 숫자 입력: '))\n",
        "        y = 100 / x\n",
        "    except:\n",
        "        print('예외 발생! 0이 아닌 실수를 입력하세요.')\n",
        "        break\n",
        "    else:\n",
        "        print(\"계산 결과: {}\".format(y))\n",
        "    finally:\n",
        "        print(\"=\" * 30)"
      ]
    },
    {
      "cell_type": "markdown",
      "metadata": {
        "id": "jndpv4hEhXL-"
      },
      "source": [
        "WWW : 도서관\n",
        "\n",
        "Web Site : 한 권의 책\n",
        "\n",
        "Web Page : 책의 한 페이지(페이지 단위)\n",
        "\n",
        "Home Page : 책의 첫번째 페이지"
      ]
    },
    {
      "cell_type": "code",
      "execution_count": null,
      "metadata": {
        "id": "eVeaxCTXiLl_"
      },
      "outputs": [],
      "source": [
        "from bs4 import BeautifulSoup\n",
        "from urllib.request import urlopen\n",
        "\n",
        "with urlopen('https://en.wikipedia.org/wiki/Main_Page') as response:\n",
        "    soup = BeautifulSoup(response, 'html.parser')\n",
        "    for anchor in soup.find_all('a'):\n",
        "        print(anchor.get('href', '/'))"
      ]
    },
    {
      "cell_type": "code",
      "execution_count": null,
      "metadata": {
        "id": "PbsFGTGmzqvN"
      },
      "outputs": [],
      "source": [
        "from bs4 import BeautifulSoup\n",
        "import requests\n",
        "\n",
        "pageurl = requests.get('https://search.naver.com/search.naver?where=blog&sm=tab_viw.blog&query=%ED%8C%8C%EC%9D%B4%EC%8D%AC')\n",
        "\n",
        "soup = BeautifulSoup(pageurl.content, 'html.parser')\n",
        "\n",
        "result = soup.find_all(attrs = {'class':'api_txt_lines total_tit'})     # list\n",
        "\n",
        "for i in result:\n",
        "    print(i.get_text())     # 텍스트(글 제목)\n",
        "    print(i.attrs['href'])  # href 속성의 값(링크 주소)"
      ]
    },
    {
      "cell_type": "code",
      "execution_count": null,
      "metadata": {
        "id": "t9yofvR7KRtF"
      },
      "outputs": [],
      "source": [
        "from bs4 import BeautifulSoup\n",
        "import requests\n",
        "import urllib.parse\n",
        "import urllib.request\n",
        "\n",
        "front_url = 'https://search.naver.com/search.naver?where=blog&sm=tab_viw.blog&query='\n",
        "keyword = input(\"원하는 검색어 입력: \")     # 한글 입력 시 한글 저장(예: 자바)\n",
        "keyword = urllib.parse.quote_plus(keyword)  # 아스키 코드로 변환(예: %EC%9E%90%EB%B0%94)\n",
        "pageurl = front_url + keyword\n",
        "\n",
        "html = urllib.request.urlopen(pageurl).read()\n",
        "\n",
        "soup = BeautifulSoup(html, 'html.parser')\n",
        "\n",
        "result = soup.find_all(attrs = {'class':'api_txt_lines total_tit'})     # list\n",
        "\n",
        "for i in result:\n",
        "    print(i.get_text())     # 텍스트(글 제목)\n",
        "    print(i.attrs['href'])  # href 속성의 값(링크 주소)\n"
      ]
    },
    {
      "cell_type": "code",
      "execution_count": null,
      "metadata": {
        "id": "yxZWq2iIf8rC"
      },
      "outputs": [],
      "source": [
        "from bs4 import BeautifulSoup\n",
        "import requests\n",
        "\n",
        "keyword = input(\"검색 키워드(다음 블로그): \")\n",
        "page = int(input(\"검색할 페이지: \"))\n",
        "prepared_url = 'https://search.daum.net/search?w=blog&DA=PGD&enc=utf8&q={}&p={}'.format(keyword, str(page))\n",
        "pageurl = requests.get(prepared_url)\n",
        "\n",
        "soup = BeautifulSoup(pageurl.content, 'html.parser')\n",
        "\n",
        "result = soup.find_all(attrs = {'class':'f_link_b'})     # list\n",
        "\n",
        "print(\"\\n========== Page {} ==========\".format(page))\n",
        "\n",
        "for i in result:\n",
        "    print(i.get_text())     # 텍스트(글 제목)\n",
        "    print(i.attrs['href'])  # href 속성의 값(링크 주소)\n",
        "    "
      ]
    },
    {
      "cell_type": "code",
      "execution_count": null,
      "metadata": {
        "id": "PPjYGjbUbR02"
      },
      "outputs": [],
      "source": [
        "from bs4 import BeautifulSoup\n",
        "import requests\n",
        "\n",
        "keyword = input(\"다음 블로그에 무엇을 검색할까요? \")\n",
        "prepared_url = 'https://search.daum.net/search?w=blog&DA=PGD&enc=utf8&q={}&p='.format(keyword)\n",
        "\n",
        "page = int(input(\"몇 페이지까지 크롤링 할까요? \"))\n",
        "\n",
        "for p in range(1, page+1):\n",
        "    print(\"\\n========== Page {} / {} ==========\".format(p, page))\n",
        "\n",
        "    pageurl = prepared_url + str(p)\n",
        "    pageurl = requests.get(pageurl)\n",
        "\n",
        "    soup = BeautifulSoup(pageurl.content, 'html.parser')\n",
        "\n",
        "    result = soup.find_all(attrs = {'class':'f_link_b'})     # list\n",
        "\n",
        "    for i in result:\n",
        "        print(i.get_text())     # 텍스트(글 제목)\n",
        "        print(i.attrs['href'])  # href 속성의 값(링크 주소)"
      ]
    },
    {
      "cell_type": "code",
      "execution_count": null,
      "metadata": {
        "colab": {
          "base_uri": "https://localhost:8080/"
        },
        "id": "iROMFXkxp6aJ",
        "outputId": "6dd317a8-d153-4e2f-bbe6-e8ba742ff270"
      },
      "outputs": [
        {
          "name": "stdout",
          "output_type": "stream",
          "text": [
            "\n",
            "*** arr_1d ***\n",
            "[1 2 3 4]\n",
            "\n",
            "*** arr_2d ***\n",
            "[[1 2]\n",
            " [3 4]]\n",
            "\n",
            "*** arr_3d ***\n",
            "[[[1 2]\n",
            "  [3 4]]\n",
            "\n",
            " [[5 6]\n",
            "  [7 8]]]\n"
          ]
        }
      ],
      "source": [
        "import numpy as np\n",
        "\n",
        "arr_1d = np.array([1, 2, 3, 4])\n",
        "arr_2d = np.array([[1, 2], [3, 4]])\n",
        "arr_3d = np.array([[[1, 2], [3, 4]], [[5, 6], [7, 8]]])\n",
        "\n",
        "print(\"\\n*** arr_1d ***\")\n",
        "print(arr_1d)\n",
        "print(\"\\n*** arr_2d ***\")\n",
        "print(arr_2d)\n",
        "print(\"\\n*** arr_3d ***\")\n",
        "print(arr_3d)"
      ]
    },
    {
      "cell_type": "code",
      "execution_count": null,
      "metadata": {
        "colab": {
          "base_uri": "https://localhost:8080/"
        },
        "id": "zrNoere6th5Q",
        "outputId": "fb5cbbb0-8100-431f-f25e-470cd1042198"
      },
      "outputs": [
        {
          "name": "stdout",
          "output_type": "stream",
          "text": [
            "[0 1 2 3 4 5 6 7 8 9]\n",
            "--------------------\n",
            "[5 6 7 8 9]\n",
            "--------------------\n",
            "[1. 3. 5. 7. 9.]\n"
          ]
        }
      ],
      "source": [
        "import numpy as np\n",
        "\n",
        "arr_1d = np.arange(10)\n",
        "arr_2d = np.arange(5, 10, dtype=int)\n",
        "arr_3d = np.arange(1, 11, 2, dtype=float)\n",
        "\n",
        "print(arr_1d)\n",
        "print(\"-\" * 20)\n",
        "print(arr_2d)\n",
        "print(\"-\" * 20)\n",
        "print(arr_3d)"
      ]
    },
    {
      "cell_type": "code",
      "execution_count": null,
      "metadata": {
        "colab": {
          "base_uri": "https://localhost:8080/"
        },
        "id": "O8e8rBOdud4k",
        "outputId": "d1e425ec-8566-48b4-8435-2468cd41cb1d"
      },
      "outputs": [
        {
          "name": "stdout",
          "output_type": "stream",
          "text": [
            "[ 1.    3.25  5.5   7.75 10.  ]\n",
            "\n",
            "[ 1  3  5  7 10]\n"
          ]
        }
      ],
      "source": [
        "arr_1d1 = np.linspace(1, 10, 5)\n",
        "arr_1d2 = np.linspace(1, 10, 5, dtype=int)\n",
        "\n",
        "print(arr_1d1)\n",
        "print()\n",
        "print(arr_1d2)"
      ]
    },
    {
      "cell_type": "code",
      "execution_count": null,
      "metadata": {
        "colab": {
          "base_uri": "https://localhost:8080/"
        },
        "id": "fF_vcoA5vIjI",
        "outputId": "9efd52b3-51c7-46f1-e565-7f5fed514bd6"
      },
      "outputs": [
        {
          "name": "stdout",
          "output_type": "stream",
          "text": [
            "[[1. 0. 0. 0. 0.]\n",
            " [0. 1. 0. 0. 0.]\n",
            " [0. 0. 1. 0. 0.]\n",
            " [0. 0. 0. 1. 0.]\n",
            " [0. 0. 0. 0. 1.]]\n",
            "\n",
            "[[1. 0. 0. 0. 0. 0.]\n",
            " [0. 1. 0. 0. 0. 0.]\n",
            " [0. 0. 1. 0. 0. 0.]]\n"
          ]
        }
      ],
      "source": [
        "arr_2d1 = np.eye(5)\n",
        "arr_2d2 = np.eye(3, 6)\n",
        "\n",
        "print(arr_2d1)\n",
        "print()\n",
        "print(arr_2d2)"
      ]
    },
    {
      "cell_type": "code",
      "execution_count": null,
      "metadata": {
        "colab": {
          "base_uri": "https://localhost:8080/"
        },
        "id": "RfAIUtUy0wI2",
        "outputId": "354ac581-9947-4f48-fd5c-6dcf1cfbb70f"
      },
      "outputs": [
        {
          "name": "stdout",
          "output_type": "stream",
          "text": [
            "[[1 0 0]\n",
            " [0 2 0]\n",
            " [0 0 3]]\n",
            "--------------------\n",
            "[[0 0 0 1 0 0]\n",
            " [0 0 0 0 2 0]\n",
            " [0 0 0 0 0 3]\n",
            " [0 0 0 0 0 0]\n",
            " [0 0 0 0 0 0]\n",
            " [0 0 0 0 0 0]]\n",
            "--------------------\n",
            "[1 4]\n"
          ]
        }
      ],
      "source": [
        "arr_2d1 = np.diag([1, 2, 3])\n",
        "arr_2d2 = np.diag([1, 2, 3], 3)\n",
        "arr_2d3 = np.array([[1, 2], [3, 4]])\n",
        "arr_2d4 = np.diag(arr_2d3)\n",
        "\n",
        "print(arr_2d1)\n",
        "print(\"-\" * 20)\n",
        "print(arr_2d2)\n",
        "print(\"-\" * 20)\n",
        "print(arr_2d4)\n"
      ]
    },
    {
      "cell_type": "code",
      "execution_count": null,
      "metadata": {
        "colab": {
          "base_uri": "https://localhost:8080/"
        },
        "id": "UDg2rCQy3Yxc",
        "outputId": "8e7e7919-439f-4b75-e2f3-ef0aafd85492"
      },
      "outputs": [
        {
          "name": "stdout",
          "output_type": "stream",
          "text": [
            "[[0. 0. 0. 0. 0.]\n",
            " [0. 0. 0. 0. 0.]\n",
            " [0. 0. 0. 0. 0.]]\n",
            "====================\n",
            "[[[0. 0. 0. 0. 0.]\n",
            "  [0. 0. 0. 0. 0.]\n",
            "  [0. 0. 0. 0. 0.]]\n",
            "\n",
            " [[0. 0. 0. 0. 0.]\n",
            "  [0. 0. 0. 0. 0.]\n",
            "  [0. 0. 0. 0. 0.]]]\n",
            "====================\n",
            "[[1 1 1 1 1]\n",
            " [1 1 1 1 1]\n",
            " [1 1 1 1 1]]\n",
            "====================\n",
            "[[[1 1 1 1 1]\n",
            "  [1 1 1 1 1]\n",
            "  [1 1 1 1 1]]\n",
            "\n",
            " [[1 1 1 1 1]\n",
            "  [1 1 1 1 1]\n",
            "  [1 1 1 1 1]]]\n",
            "====================\n",
            "[[[0 0 0 0 0]\n",
            "  [1 1 1 1 1]\n",
            "  [2 2 2 2 2]\n",
            "  [3 3 3 3 3]\n",
            "  [4 4 4 4 4]]\n",
            "\n",
            " [[0 1 2 3 4]\n",
            "  [0 1 2 3 4]\n",
            "  [0 1 2 3 4]\n",
            "  [0 1 2 3 4]\n",
            "  [0 1 2 3 4]]]\n"
          ]
        }
      ],
      "source": [
        "arr_3d1 = np.zeros((3, 5))\n",
        "arr_3d2 = np.zeros((2, 3, 5))\n",
        "arr_3d3 = np.ones((3, 5), dtype=int)\n",
        "arr_3d4 = np.ones((2, 3, 5), dtype=int)\n",
        "arr_3d5 = np.indices((5, 5))\n",
        "\n",
        "print(arr_3d1)\n",
        "print(\"=\" * 20)\n",
        "print(arr_3d2)\n",
        "print(\"=\" * 20)\n",
        "print(arr_3d3)\n",
        "print(\"=\" * 20)\n",
        "print(arr_3d4)\n",
        "print(\"=\" * 20)\n",
        "print(arr_3d5)"
      ]
    },
    {
      "cell_type": "code",
      "execution_count": null,
      "metadata": {
        "colab": {
          "base_uri": "https://localhost:8080/"
        },
        "id": "CsLG2dnm4_sh",
        "outputId": "9acbf98d-bfc4-49a1-83ac-856266935487"
      },
      "outputs": [
        {
          "name": "stdout",
          "output_type": "stream",
          "text": [
            "a = [1 2 3 4 5]\n",
            "b = [1 2 3 4]\n",
            "c = [2 3 4 5]\n"
          ]
        }
      ],
      "source": [
        "a = np.array([1, 2, 3, 4, 5])\n",
        "b = a[:4]\n",
        "c = b + 1\n",
        "\n",
        "print(\"a = {}\".format(a))\n",
        "print(\"b = {}\".format(b))\n",
        "print(\"c = {}\".format(c))\n"
      ]
    },
    {
      "cell_type": "code",
      "execution_count": null,
      "metadata": {
        "colab": {
          "base_uri": "https://localhost:8080/"
        },
        "id": "ooKyeGCr6LiU",
        "outputId": "baca9e5c-845b-48c8-ddd3-40ad60bf5eba"
      },
      "outputs": [
        {
          "name": "stdout",
          "output_type": "stream",
          "text": [
            "a = [1 2 3 4 5]\n",
            "b = [1 2 3 4 5]\n",
            "a = [100000      2      3      4      5]\n",
            "b = [1 2 3 4 5]\n"
          ]
        }
      ],
      "source": [
        "a = np.array([1, 2, 3, 4, 5])\n",
        "print(\"a =\", a)\n",
        "\n",
        "b = np.copy(a)\n",
        "print(\"b =\", b)\n",
        "\n",
        "a[0] = 100000\n",
        "print(\"a =\", a)\n",
        "print(\"b =\", b)"
      ]
    },
    {
      "cell_type": "code",
      "execution_count": null,
      "metadata": {
        "colab": {
          "base_uri": "https://localhost:8080/"
        },
        "id": "_PEOMrBf68ma",
        "outputId": "397654e2-c2de-4045-f75d-7ce80c59e606"
      },
      "outputs": [
        {
          "name": "stdout",
          "output_type": "stream",
          "text": [
            "a = [1 2 3 4 5]\n",
            "b = [1 2 3 4 5]\n",
            "a = [100000      2      3      4      5]\n",
            "b = [100000      2      3      4      5]\n"
          ]
        }
      ],
      "source": [
        "a = np.array([1, 2, 3, 4, 5])\n",
        "print(\"a =\", a)\n",
        "\n",
        "b = a\n",
        "print(\"b =\", b)\n",
        "\n",
        "a[0] = 100000\n",
        "print(\"a =\", a)\n",
        "print(\"b =\", b)"
      ]
    },
    {
      "cell_type": "code",
      "execution_count": null,
      "metadata": {
        "colab": {
          "base_uri": "https://localhost:8080/"
        },
        "id": "xsiM3aQN7hbs",
        "outputId": "beba99a4-fc46-4df0-d588-2b93aba894b2"
      },
      "outputs": [
        {
          "name": "stdout",
          "output_type": "stream",
          "text": [
            "[ 1  2  3  4  5  6 10]\n"
          ]
        }
      ],
      "source": [
        "a = np.array([1, 2, 3])\n",
        "b = np.array([4, 5, 6])\n",
        "c = np.block([a, b, 10])\n",
        "\n",
        "print(c)"
      ]
    },
    {
      "cell_type": "code",
      "execution_count": null,
      "metadata": {
        "colab": {
          "base_uri": "https://localhost:8080/"
        },
        "id": "2XeFzNpZ7y9i",
        "outputId": "07e571d7-2ecf-46c5-d43f-97393f07fca5"
      },
      "outputs": [
        {
          "name": "stdout",
          "output_type": "stream",
          "text": [
            "[[1 2 3]\n",
            " [4 5 6]]\n"
          ]
        }
      ],
      "source": [
        "a = np.array([1, 2, 3])\n",
        "b = np.array([4, 5, 6])\n",
        "c = np.block([[a], [b]])    # VStack\n",
        "\n",
        "print(c)"
      ]
    },
    {
      "cell_type": "code",
      "execution_count": null,
      "metadata": {
        "colab": {
          "base_uri": "https://localhost:8080/"
        },
        "id": "-XOzx2k_8CoS",
        "outputId": "43e58114-ad05-4042-8069-01684dc13928"
      },
      "outputs": [
        {
          "name": "stdout",
          "output_type": "stream",
          "text": [
            "[1 2 3 4 5 6]\n"
          ]
        }
      ],
      "source": [
        "a = np.array([1, 2, 3])\n",
        "b = np.array([4, 5, 6])\n",
        "c = np.block([a, b])    # HStack\n",
        "\n",
        "print(c)"
      ]
    },
    {
      "cell_type": "code",
      "execution_count": null,
      "metadata": {
        "colab": {
          "base_uri": "https://localhost:8080/"
        },
        "id": "Q7t6Wy3-UnTm",
        "outputId": "c087a327-cb7e-4169-c98f-45a9d7c9a5a2"
      },
      "outputs": [
        {
          "name": "stdout",
          "output_type": "stream",
          "text": [
            "[[2020   19]\n",
            " [2021   20]\n",
            " [2022   21]\n",
            " [2023   22]\n",
            " [2024   23]\n",
            " [2025   24]\n",
            " [2026   25]]\n"
          ]
        }
      ],
      "source": [
        "import numpy as np\n",
        "\n",
        "a = np.loadtxt('sample.csv', delimiter=',', skiprows=1, dtype=int)\n",
        "\n",
        "print(a)"
      ]
    },
    {
      "cell_type": "code",
      "execution_count": null,
      "metadata": {
        "colab": {
          "base_uri": "https://localhost:8080/"
        },
        "id": "BixCao7MWrvV",
        "outputId": "4a083c5e-b8dc-4f79-e72d-ec410acec14a"
      },
      "outputs": [
        {
          "name": "stdout",
          "output_type": "stream",
          "text": [
            "7 4\n",
            "[[0 1 2 3 4]\n",
            " [5 6 7 8 9]]\n"
          ]
        }
      ],
      "source": [
        "a = np.arange(10)\n",
        "b = a[7]\n",
        "c = a[-6]\n",
        "print(b, c)\n",
        "a.shape = (2, 5)\n",
        "a[1, 2]\n",
        "print(a)"
      ]
    },
    {
      "cell_type": "code",
      "execution_count": null,
      "metadata": {
        "colab": {
          "base_uri": "https://localhost:8080/"
        },
        "id": "kB9V0hK-Xe8v",
        "outputId": "cbf41cc5-9eee-4ce1-cf82-d604b653578a"
      },
      "outputs": [
        {
          "name": "stdout",
          "output_type": "stream",
          "text": [
            "[3 4 5 6]\n",
            "[0 1 2 3 4]\n",
            "[2 4 6 8]\n",
            "\n",
            "[[ 6  8 10]\n",
            " [12 14 16]]\n"
          ]
        }
      ],
      "source": [
        "a = np.arange(10)\n",
        "\n",
        "print(a[3:7])\n",
        "print(a[:-5])\n",
        "print(a[2:9:2])\n",
        "\n",
        "print()\n",
        "\n",
        "b = np.arange(18).reshape(3, 6)\n",
        "print(b[1:3, ::2])\n"
      ]
    },
    {
      "cell_type": "code",
      "execution_count": null,
      "metadata": {
        "colab": {
          "base_uri": "https://localhost:8080/"
        },
        "id": "NIGmoGAuYLbz",
        "outputId": "4e0e361b-8518-4aad-f820-24ca19e9488b"
      },
      "outputs": [
        {
          "name": "stdout",
          "output_type": "stream",
          "text": [
            "[10  9  8  7  6  5  4  3  2  1]\n",
            "--------------------\n",
            "[3 3 2 7]\n",
            "--------------------\n",
            "[[9 9]\n",
            " [7 3]]\n"
          ]
        }
      ],
      "source": [
        "a = np.arange(10, 0, -1)\n",
        "b = a[np.array([7, 7, 8, 3])]\n",
        "c = a[np.array([[1, 1], [3, 7]])]\n",
        "\n",
        "print(a)\n",
        "print('-' * 20)\n",
        "print(b)\n",
        "print('-' * 20)\n",
        "print(c)"
      ]
    },
    {
      "cell_type": "code",
      "execution_count": null,
      "metadata": {
        "colab": {
          "base_uri": "https://localhost:8080/"
        },
        "id": "XaiDfZ1FY6dm",
        "outputId": "9e106f4b-6278-4c36-a814-843169348b0c"
      },
      "outputs": [
        {
          "name": "stdout",
          "output_type": "stream",
          "text": [
            "[[ 0  1  2  3  4]\n",
            " [ 5  6  7  8  9]\n",
            " [10 11 12 13 14]]\n",
            "--------------------\n",
            "[ 6 12]\n",
            "--------------------\n",
            "[ 8 13]\n",
            "--------------------\n",
            "[[ 5  6  7  8  9]\n",
            " [10 11 12 13 14]]\n"
          ]
        }
      ],
      "source": [
        "a = np.arange(15).reshape(3, 5)\n",
        "b = a[np.array([1, 2]), np.array([1, 2])]\n",
        "c = a[np.array([1, 2]), 3]\n",
        "d = a[np.array([1, 2])]\n",
        "\n",
        "print(a)\n",
        "print('-' * 20)\n",
        "print(b)\n",
        "print('-' * 20)\n",
        "print(c)\n",
        "print('-' * 20)\n",
        "print(d)"
      ]
    },
    {
      "cell_type": "code",
      "execution_count": null,
      "metadata": {
        "colab": {
          "base_uri": "https://localhost:8080/"
        },
        "id": "ly1UL7ykaGtw",
        "outputId": "421353f7-f539-468b-c688-1d1f306a77ab"
      },
      "outputs": [
        {
          "name": "stdout",
          "output_type": "stream",
          "text": [
            "[[ 0  1  2  3  4]\n",
            " [ 5  6  7  8  9]\n",
            " [10 11 12 13 14]]\n",
            "--------------------\n",
            "[[False False False False False]\n",
            " [False False False False False]\n",
            " [False  True  True  True  True]]\n",
            "--------------------\n",
            "[11 12 13 14]\n"
          ]
        }
      ],
      "source": [
        "a = np.arange(15).reshape(3, 5)\n",
        "b = a > 10\n",
        "c = a[b]\n",
        "\n",
        "print(a)\n",
        "print('-' * 20)\n",
        "print(b)\n",
        "print('-' * 20)\n",
        "print(c)"
      ]
    },
    {
      "cell_type": "code",
      "execution_count": null,
      "metadata": {
        "colab": {
          "base_uri": "https://localhost:8080/"
        },
        "id": "FXXnhav3a1iF",
        "outputId": "127ff740-4e8c-4760-e550-bb500bef6dd1"
      },
      "outputs": [
        {
          "name": "stdout",
          "output_type": "stream",
          "text": [
            "[[ 0  1  2  3  4]\n",
            " [10 11 12 13 14]]\n"
          ]
        }
      ],
      "source": [
        "a = np.arange(15).reshape(3, 5)\n",
        "b = np.array([True, False, True])\n",
        "c = a[b]\n",
        "\n",
        "print(c)"
      ]
    },
    {
      "cell_type": "code",
      "execution_count": null,
      "metadata": {
        "colab": {
          "base_uri": "https://localhost:8080/"
        },
        "id": "ftmeNMqnbOPD",
        "outputId": "4b7c5311-5421-4aee-e321-2b059b01060d"
      },
      "outputs": [
        {
          "name": "stdout",
          "output_type": "stream",
          "text": [
            "[[ 2  3]\n",
            " [12 13]]\n"
          ]
        }
      ],
      "source": [
        "a = np.arange(15).reshape(3, 5)\n",
        "b = a[np.array([0, 2]), 2:4]\n",
        "\n",
        "print(b)"
      ]
    },
    {
      "cell_type": "code",
      "execution_count": null,
      "metadata": {
        "colab": {
          "base_uri": "https://localhost:8080/"
        },
        "id": "RHuQu1Mebm_Q",
        "outputId": "0fb085e7-c594-4e58-cf2c-0fa04bc5bee8"
      },
      "outputs": [
        {
          "name": "stdout",
          "output_type": "stream",
          "text": [
            "[0 1 2 3 4 5 6 7 8 9]\n",
            "--------------------\n",
            "[  0   1   2 100 100 100 100 100   8   9]\n",
            "--------------------\n",
            "[0 1 2 0 1 2 3 4 8 9]\n"
          ]
        }
      ],
      "source": [
        "a = np.arange(10)\n",
        "print(a)\n",
        "print('-' * 20)\n",
        "\n",
        "a[3:8] = 100\n",
        "print(a)\n",
        "print('-' * 20)\n",
        "\n",
        "a[3:8] = np.arange(5)\n",
        "print(a)"
      ]
    },
    {
      "cell_type": "code",
      "execution_count": null,
      "metadata": {
        "colab": {
          "base_uri": "https://localhost:8080/"
        },
        "id": "CfzIVyK-cGFR",
        "outputId": "babef093-1bab-42df-cf2a-391f41e5797e"
      },
      "outputs": [
        {
          "name": "stdout",
          "output_type": "stream",
          "text": [
            "[0 2 3 4 4 5 6 7 8 9]\n"
          ]
        }
      ],
      "source": [
        "a = np.arange(10)\n",
        "a[np.array([1, 3, 1, 2])] += 1\n",
        "print(a)"
      ]
    },
    {
      "cell_type": "code",
      "execution_count": null,
      "metadata": {
        "colab": {
          "base_uri": "https://localhost:8080/"
        },
        "id": "p7NWCCjKcWkO",
        "outputId": "9daa627d-7691-435e-b97f-b9a6b4b56523"
      },
      "outputs": [
        {
          "name": "stdout",
          "output_type": "stream",
          "text": [
            "[ 5 10 15 20 25]\n"
          ]
        }
      ],
      "source": [
        "a = np.array([1, 2, 3, 4, 5])\n",
        "b = np.array([5, 5, 5, 5, 5])\n",
        "c = a * b\n",
        "print(c)"
      ]
    },
    {
      "cell_type": "code",
      "execution_count": null,
      "metadata": {
        "colab": {
          "base_uri": "https://localhost:8080/"
        },
        "id": "kp80pMqjckfy",
        "outputId": "58f04cc5-2fa4-47c8-c11c-9886e7408d69"
      },
      "outputs": [
        {
          "name": "stdout",
          "output_type": "stream",
          "text": [
            "[ 5 10 15 20 25]\n"
          ]
        }
      ],
      "source": [
        "# 넘파이 브로드캐스팅\n",
        "a = np.array([1, 2, 3, 4, 5])\n",
        "b = 5\n",
        "c = a * b\n",
        "\n",
        "print(c)"
      ]
    },
    {
      "cell_type": "code",
      "execution_count": null,
      "metadata": {
        "colab": {
          "base_uri": "https://localhost:8080/"
        },
        "id": "hawtVl_yc8kC",
        "outputId": "79839b05-3e34-4b6c-ab50-b534cdfcecef"
      },
      "outputs": [
        {
          "name": "stdout",
          "output_type": "stream",
          "text": [
            "[[ 0  2  4  6  8]\n",
            " [ 5  7  9 11 13]\n",
            " [10 12 14 16 18]]\n"
          ]
        }
      ],
      "source": [
        "# 넘파이 브로드캐스팅\n",
        "a = np.arange(15).reshape(3, 5)\n",
        "b = np.arange(5)\n",
        "\n",
        "c = a + b\n",
        "\n",
        "print(c)"
      ]
    },
    {
      "cell_type": "code",
      "execution_count": null,
      "metadata": {
        "colab": {
          "base_uri": "https://localhost:8080/"
        },
        "id": "PRiXIkCFdW3t",
        "outputId": "1755e95c-bcc8-4b9a-d4ec-05817c11aa86"
      },
      "outputs": [
        {
          "name": "stdout",
          "output_type": "stream",
          "text": [
            "[1 2 3 4 5]\n",
            "--------------------\n",
            "[[1]\n",
            " [2]\n",
            " [3]\n",
            " [4]\n",
            " [5]]\n"
          ]
        }
      ],
      "source": [
        "a = np.array([1, 2, 3, 4, 5])\n",
        "print(a)\n",
        "print('-' * 20)\n",
        "print(a[:, np.newaxis])"
      ]
    },
    {
      "cell_type": "code",
      "execution_count": null,
      "metadata": {
        "colab": {
          "base_uri": "https://localhost:8080/"
        },
        "id": "uYkrdsQ-dwq4",
        "outputId": "6c00090f-7a58-42dd-d7ce-f8455a8605e4"
      },
      "outputs": [
        {
          "name": "stdout",
          "output_type": "stream",
          "text": [
            "[[2 3 4]\n",
            " [3 4 5]\n",
            " [4 5 6]\n",
            " [5 6 7]\n",
            " [6 7 8]]\n"
          ]
        }
      ],
      "source": [
        "a = np.array([1, 2, 3, 4, 5])\n",
        "b = np.array([1, 2, 3])\n",
        "c = a[:, np.newaxis] + b\n",
        "\n",
        "print(c)"
      ]
    },
    {
      "cell_type": "code",
      "execution_count": null,
      "metadata": {
        "colab": {
          "base_uri": "https://localhost:8080/"
        },
        "id": "tJqj37wAkyIg",
        "outputId": "815ff3f7-3dfa-4aa0-8a96-9419b6d86792"
      },
      "outputs": [
        {
          "name": "stdout",
          "output_type": "stream",
          "text": [
            "0    1\n",
            "1    2\n",
            "2    3\n",
            "3    4\n",
            "4    5\n",
            "dtype: int64\n"
          ]
        }
      ],
      "source": [
        "import pandas as pd\n",
        "\n",
        "a = pd.Series([1, 2, 3, 4, 5])\n",
        "\n",
        "print(a)"
      ]
    },
    {
      "cell_type": "code",
      "execution_count": null,
      "metadata": {
        "colab": {
          "base_uri": "https://localhost:8080/"
        },
        "id": "66xmYhOelEzY",
        "outputId": "7c52ddbb-eb92-4aba-da70-1bab5934a474"
      },
      "outputs": [
        {
          "name": "stdout",
          "output_type": "stream",
          "text": [
            "DatetimeIndex(['2021-12-01', '2021-12-02', '2021-12-03', '2021-12-04',\n",
            "               '2021-12-05', '2021-12-06', '2021-12-07', '2021-12-08',\n",
            "               '2021-12-09', '2021-12-10'],\n",
            "              dtype='datetime64[ns]', freq='D')\n"
          ]
        }
      ],
      "source": [
        "date = pd.date_range('20211201', periods=10)\n",
        "\n",
        "print(date)"
      ]
    },
    {
      "cell_type": "code",
      "execution_count": null,
      "metadata": {
        "colab": {
          "base_uri": "https://localhost:8080/"
        },
        "id": "SVUZdwWjlmhu",
        "outputId": "26243615-9050-4a19-b6bd-20c76bf64a9e"
      },
      "outputs": [
        {
          "name": "stdout",
          "output_type": "stream",
          "text": [
            "                   A         B         C\n",
            "2021-12-01  1.174319  0.371102  0.331255\n",
            "2021-12-02 -0.129783 -1.779517 -1.328479\n",
            "2021-12-03 -0.637949 -0.420178  0.463565\n",
            "2021-12-04  0.336065 -0.958502  0.617551\n",
            "2021-12-05 -0.103872 -0.344732  2.668843\n",
            "2021-12-06  2.042396 -0.096802  1.564495\n",
            "2021-12-07  0.371998  0.218463 -0.723971\n",
            "2021-12-08  0.512355  0.195146 -1.097679\n",
            "2021-12-09  0.001942  1.804679  2.924983\n",
            "2021-12-10 -1.928940  1.709523  1.078942\n"
          ]
        }
      ],
      "source": [
        "import pandas as pd\n",
        "import numpy as np\n",
        "\n",
        "df = pd.DataFrame(np.random.randn(10, 3), index=date, columns=list('ABC'))\n",
        "print(df)"
      ]
    },
    {
      "cell_type": "code",
      "execution_count": null,
      "metadata": {
        "colab": {
          "base_uri": "https://localhost:8080/"
        },
        "id": "ZDYuMndjmg2d",
        "outputId": "83854034-741a-4c5a-8f5a-12e96961724d"
      },
      "outputs": [
        {
          "name": "stdout",
          "output_type": "stream",
          "text": [
            "   Col0  Col1  Col2\n",
            "0     1     4     7\n",
            "1     2     5     8\n",
            "2     3     6     9\n"
          ]
        }
      ],
      "source": [
        "sample_dict = {'Col0':[1, 2, 3], 'Col1':[4, 5, 6], 'Col2':[7, 8, 9]}\n",
        "df = pd.DataFrame(sample_dict)\n",
        "print(df)"
      ]
    },
    {
      "cell_type": "code",
      "execution_count": null,
      "metadata": {
        "colab": {
          "base_uri": "https://localhost:8080/"
        },
        "id": "iFzRP2eonNNS",
        "outputId": "9ccdc577-c3df-4387-82da-d5371995b195"
      },
      "outputs": [
        {
          "name": "stdout",
          "output_type": "stream",
          "text": [
            "                   A         B         C\n",
            "2021-12-01  0.555806 -0.056485 -1.080123\n",
            "2021-12-02  0.017537  0.480440 -2.862468\n",
            "2021-12-03 -0.617020 -0.252517 -0.203919\n",
            "2021-12-04 -0.593725 -0.189437  0.662007\n",
            "2021-12-05 -0.194497 -0.740321 -0.505891\n",
            "2021-12-06 -0.263692 -0.172786  0.130782\n",
            "2021-12-07  1.854719  0.462946  0.987189\n",
            "2021-12-08  0.378840  2.214281 -0.876578\n",
            "2021-12-09 -0.904305  0.682013  0.714983\n",
            "2021-12-10  0.716018  0.151747  0.426912\n"
          ]
        }
      ],
      "source": [
        "date = pd.date_range('20211201', periods=10)\n",
        "df = pd.DataFrame(np.random.randn(10, 3), index=date, columns=list('ABC'))\n",
        "print(df)"
      ]
    },
    {
      "cell_type": "code",
      "execution_count": null,
      "metadata": {
        "colab": {
          "base_uri": "https://localhost:8080/"
        },
        "id": "68Ask7E6nqq4",
        "outputId": "486ed292-23e9-42aa-e663-328a1e13cce8"
      },
      "outputs": [
        {
          "name": "stdout",
          "output_type": "stream",
          "text": [
            "                   A         B         C\n",
            "2021-12-01  0.555806 -0.056485 -1.080123\n",
            "2021-12-02  0.017537  0.480440 -2.862468\n",
            "2021-12-03 -0.617020 -0.252517 -0.203919\n",
            "2021-12-04 -0.593725 -0.189437  0.662007\n",
            "2021-12-05 -0.194497 -0.740321 -0.505891\n",
            "--------------------------------------------------\n",
            "                   A         B         C\n",
            "2021-12-01  0.555806 -0.056485 -1.080123\n",
            "2021-12-02  0.017537  0.480440 -2.862468\n"
          ]
        }
      ],
      "source": [
        "print(df.head())"
      ]
    },
    {
      "cell_type": "code",
      "execution_count": null,
      "metadata": {
        "colab": {
          "base_uri": "https://localhost:8080/"
        },
        "id": "wRk8NC_cn2JS",
        "outputId": "fcad121e-577c-4f03-e101-6a7ad99fc2a2"
      },
      "outputs": [
        {
          "name": "stdout",
          "output_type": "stream",
          "text": [
            "                   A         B         C\n",
            "2021-12-06 -0.263692 -0.172786  0.130782\n",
            "2021-12-07  1.854719  0.462946  0.987189\n",
            "2021-12-08  0.378840  2.214281 -0.876578\n",
            "2021-12-09 -0.904305  0.682013  0.714983\n",
            "2021-12-10  0.716018  0.151747  0.426912\n"
          ]
        }
      ],
      "source": [
        "print(df.tail())"
      ]
    },
    {
      "cell_type": "code",
      "execution_count": null,
      "metadata": {
        "colab": {
          "base_uri": "https://localhost:8080/"
        },
        "id": "NsKr-gnHoKoR",
        "outputId": "7b34ab22-17ef-4054-9ae8-7ee726042019"
      },
      "outputs": [
        {
          "name": "stdout",
          "output_type": "stream",
          "text": [
            "                   A         B         C\n",
            "2021-12-01  0.555806 -0.056485 -1.080123\n",
            "2021-12-02  0.017537  0.480440 -2.862468\n",
            "2021-12-03 -0.617020 -0.252517 -0.203919\n"
          ]
        }
      ],
      "source": [
        "print(df.head(3))"
      ]
    },
    {
      "cell_type": "code",
      "execution_count": null,
      "metadata": {
        "colab": {
          "base_uri": "https://localhost:8080/"
        },
        "id": "H5xOgHY1oL74",
        "outputId": "c104679a-c2a3-4135-90bb-b2c3d963f963"
      },
      "outputs": [
        {
          "name": "stdout",
          "output_type": "stream",
          "text": [
            "                   A         B         C\n",
            "2021-12-08  0.378840  2.214281 -0.876578\n",
            "2021-12-09 -0.904305  0.682013  0.714983\n",
            "2021-12-10  0.716018  0.151747  0.426912\n"
          ]
        }
      ],
      "source": [
        "print(df.tail(3))"
      ]
    },
    {
      "cell_type": "code",
      "execution_count": null,
      "metadata": {
        "colab": {
          "base_uri": "https://localhost:8080/"
        },
        "id": "eDqBGLtEoQ55",
        "outputId": "6b3cf982-420c-43cc-e960-139527ba71d9"
      },
      "outputs": [
        {
          "name": "stdout",
          "output_type": "stream",
          "text": [
            "DatetimeIndex(['2021-12-01', '2021-12-02', '2021-12-03', '2021-12-04',\n",
            "               '2021-12-05', '2021-12-06', '2021-12-07', '2021-12-08',\n",
            "               '2021-12-09', '2021-12-10'],\n",
            "              dtype='datetime64[ns]', freq='D')\n",
            "--------------------------------------------------\n",
            "Index(['A', 'B', 'C'], dtype='object')\n"
          ]
        }
      ],
      "source": [
        "# 인덱스 정보\n",
        "print(df.index)\n",
        "print(\"-\" * 50)\n",
        "# 열 정보\n",
        "print(df.columns)"
      ]
    },
    {
      "cell_type": "code",
      "execution_count": null,
      "metadata": {
        "colab": {
          "base_uri": "https://localhost:8080/"
        },
        "id": "tIf95rtZoXBk",
        "outputId": "195a4f9e-b04d-4c94-825e-37076a2d2f43"
      },
      "outputs": [
        {
          "name": "stdout",
          "output_type": "stream",
          "text": [
            "               A          B          C\n",
            "count  10.000000  10.000000  10.000000\n",
            "mean    0.094968   0.257988  -0.260711\n",
            "std     0.814697   0.806332   1.148426\n",
            "min    -0.904305  -0.740321  -2.862468\n",
            "25%    -0.511217  -0.185274  -0.783907\n",
            "50%    -0.088480   0.047631  -0.036568\n",
            "75%     0.511564   0.476066   0.603233\n",
            "max     1.854719   2.214281   0.987189\n"
          ]
        }
      ],
      "source": [
        "# 데이터 요약\n",
        "print(df.describe())"
      ]
    },
    {
      "cell_type": "code",
      "execution_count": null,
      "metadata": {
        "colab": {
          "base_uri": "https://localhost:8080/"
        },
        "id": "uJXSmrzUov1t",
        "outputId": "0b54835d-a951-428a-d21e-346323187b46"
      },
      "outputs": [
        {
          "name": "stdout",
          "output_type": "stream",
          "text": [
            "   2021-12-01  2021-12-02  2021-12-03  2021-12-04  2021-12-05  2021-12-06  \\\n",
            "A    0.555806    0.017537   -0.617020   -0.593725   -0.194497   -0.263692   \n",
            "B   -0.056485    0.480440   -0.252517   -0.189437   -0.740321   -0.172786   \n",
            "C   -1.080123   -2.862468   -0.203919    0.662007   -0.505891    0.130782   \n",
            "\n",
            "   2021-12-07  2021-12-08  2021-12-09  2021-12-10  \n",
            "A    1.854719    0.378840   -0.904305    0.716018  \n",
            "B    0.462946    2.214281    0.682013    0.151747  \n",
            "C    0.987189   -0.876578    0.714983    0.426912  \n"
          ]
        }
      ],
      "source": [
        "# 행/열 바꿈\n",
        "print(df.T)"
      ]
    },
    {
      "cell_type": "code",
      "execution_count": null,
      "metadata": {
        "colab": {
          "base_uri": "https://localhost:8080/"
        },
        "id": "0c7i_H0KpCk1",
        "outputId": "039e8e89-ea28-418b-a75d-6260045722b0"
      },
      "outputs": [
        {
          "name": "stdout",
          "output_type": "stream",
          "text": [
            "                   C         B         A\n",
            "2021-12-01 -1.080123 -0.056485  0.555806\n",
            "2021-12-02 -2.862468  0.480440  0.017537\n",
            "2021-12-03 -0.203919 -0.252517 -0.617020\n",
            "2021-12-04  0.662007 -0.189437 -0.593725\n",
            "2021-12-05 -0.505891 -0.740321 -0.194497\n",
            "2021-12-06  0.130782 -0.172786 -0.263692\n",
            "2021-12-07  0.987189  0.462946  1.854719\n",
            "2021-12-08 -0.876578  2.214281  0.378840\n",
            "2021-12-09  0.714983  0.682013 -0.904305\n",
            "2021-12-10  0.426912  0.151747  0.716018\n"
          ]
        }
      ],
      "source": [
        "# 인덱스 정렬(열을 축으로 내림차순 출력)\n",
        "print(df.sort_index(axis=1, ascending=False))"
      ]
    },
    {
      "cell_type": "code",
      "execution_count": null,
      "metadata": {
        "colab": {
          "base_uri": "https://localhost:8080/"
        },
        "id": "LmbsQxdApmKh",
        "outputId": "b0feaebb-9384-425b-c4ed-ef2ad009fb06"
      },
      "outputs": [
        {
          "name": "stdout",
          "output_type": "stream",
          "text": [
            "                   A         B         C\n",
            "2021-12-10  0.716018  0.151747  0.426912\n",
            "2021-12-09 -0.904305  0.682013  0.714983\n",
            "2021-12-08  0.378840  2.214281 -0.876578\n",
            "2021-12-07  1.854719  0.462946  0.987189\n",
            "2021-12-06 -0.263692 -0.172786  0.130782\n",
            "2021-12-05 -0.194497 -0.740321 -0.505891\n",
            "2021-12-04 -0.593725 -0.189437  0.662007\n",
            "2021-12-03 -0.617020 -0.252517 -0.203919\n",
            "2021-12-02  0.017537  0.480440 -2.862468\n",
            "2021-12-01  0.555806 -0.056485 -1.080123\n"
          ]
        }
      ],
      "source": [
        "# 인덱스 정렬(행을 축으로 내림차순 출력)\n",
        "print(df.sort_index(axis=0, ascending=False))"
      ]
    },
    {
      "cell_type": "code",
      "execution_count": null,
      "metadata": {
        "colab": {
          "base_uri": "https://localhost:8080/"
        },
        "id": "OkX1K4OMp263",
        "outputId": "2746b9c4-cb58-40e3-d345-490bfc1f6631"
      },
      "outputs": [
        {
          "name": "stdout",
          "output_type": "stream",
          "text": [
            "                   A         B         C\n",
            "2021-12-02  0.017537  0.480440 -2.862468\n",
            "2021-12-01  0.555806 -0.056485 -1.080123\n",
            "2021-12-08  0.378840  2.214281 -0.876578\n",
            "2021-12-05 -0.194497 -0.740321 -0.505891\n",
            "2021-12-03 -0.617020 -0.252517 -0.203919\n",
            "2021-12-06 -0.263692 -0.172786  0.130782\n",
            "2021-12-10  0.716018  0.151747  0.426912\n",
            "2021-12-04 -0.593725 -0.189437  0.662007\n",
            "2021-12-09 -0.904305  0.682013  0.714983\n",
            "2021-12-07  1.854719  0.462946  0.987189\n"
          ]
        }
      ],
      "source": [
        "# 값 정렬(C 열을 기준으로 오름차순 정렬)\n",
        "print(df.sort_values(by='C'))"
      ]
    },
    {
      "cell_type": "code",
      "execution_count": null,
      "metadata": {
        "colab": {
          "base_uri": "https://localhost:8080/"
        },
        "id": "VsHZHDYSqI30",
        "outputId": "a3c93c88-7e22-468e-e5ed-09150bfa6d03"
      },
      "outputs": [
        {
          "name": "stdout",
          "output_type": "stream",
          "text": [
            "2021-12-01   -0.056485\n",
            "2021-12-02    0.480440\n",
            "2021-12-03   -0.252517\n",
            "2021-12-04   -0.189437\n",
            "2021-12-05   -0.740321\n",
            "2021-12-06   -0.172786\n",
            "2021-12-07    0.462946\n",
            "2021-12-08    2.214281\n",
            "2021-12-09    0.682013\n",
            "2021-12-10    0.151747\n",
            "Freq: D, Name: B, dtype: float64\n"
          ]
        }
      ],
      "source": [
        "# 열 인덱싱(B 열만 출력)\n",
        "print(df['B'])"
      ]
    },
    {
      "cell_type": "code",
      "execution_count": null,
      "metadata": {
        "colab": {
          "base_uri": "https://localhost:8080/"
        },
        "id": "6f9DVJxvqUId",
        "outputId": "b608294a-0b0b-4a98-ce2b-257d0c35dcfa"
      },
      "outputs": [
        {
          "name": "stdout",
          "output_type": "stream",
          "text": [
            "                   A         B         C\n",
            "2021-12-01  0.555806 -0.056485 -1.080123\n",
            "2021-12-02  0.017537  0.480440 -2.862468\n",
            "2021-12-03 -0.617020 -0.252517 -0.203919\n",
            "2021-12-04 -0.593725 -0.189437  0.662007\n"
          ]
        }
      ],
      "source": [
        "# 슬라이싱\n",
        "print(df[0:4])"
      ]
    },
    {
      "cell_type": "code",
      "execution_count": null,
      "metadata": {
        "colab": {
          "base_uri": "https://localhost:8080/"
        },
        "id": "zSbD4OrMrkvU",
        "outputId": "fe6c5fce-2444-498e-eeee-c96b427585f4"
      },
      "outputs": [
        {
          "name": "stdout",
          "output_type": "stream",
          "text": [
            "                   A         B         C\n",
            "2021-12-01  0.555806 -0.056485 -1.080123\n",
            "2021-12-02  0.017537  0.480440 -2.862468\n",
            "2021-12-03 -0.617020 -0.252517 -0.203919\n",
            "2021-12-04 -0.593725 -0.189437  0.662007\n",
            "2021-12-05 -0.194497 -0.740321 -0.505891\n",
            "2021-12-06 -0.263692 -0.172786  0.130782\n",
            "2021-12-07  1.854719  0.462946  0.987189\n",
            "2021-12-08  0.378840  2.214281 -0.876578\n",
            "2021-12-09 -0.904305  0.682013  0.714983\n"
          ]
        }
      ],
      "source": [
        "# 인덱스로 슬라이싱\n",
        "print(df['20211201':'20211209'])"
      ]
    },
    {
      "cell_type": "code",
      "execution_count": null,
      "metadata": {
        "colab": {
          "base_uri": "https://localhost:8080/"
        },
        "id": "rF1X6X2yuNb4",
        "outputId": "7ebf6cf9-42e3-4c88-d3c5-91dd78f8bc4b"
      },
      "outputs": [
        {
          "name": "stdout",
          "output_type": "stream",
          "text": [
            "A    0.555806\n",
            "B   -0.056485\n",
            "C   -1.080123\n",
            "Name: 2021-12-01 00:00:00, dtype: float64\n"
          ]
        }
      ],
      "source": [
        "# 인덱스가 date[0]인 데이터 출력\n",
        "print(df.loc[date[0]])"
      ]
    },
    {
      "cell_type": "code",
      "execution_count": null,
      "metadata": {
        "colab": {
          "base_uri": "https://localhost:8080/"
        },
        "id": "jq-a0TfQujzS",
        "outputId": "717ecfa4-1c28-4553-b79e-363cd1d41c4a"
      },
      "outputs": [
        {
          "name": "stdout",
          "output_type": "stream",
          "text": [
            "                   B         C\n",
            "2021-12-01 -0.056485 -1.080123\n",
            "2021-12-02  0.480440 -2.862468\n",
            "2021-12-03 -0.252517 -0.203919\n",
            "2021-12-04 -0.189437  0.662007\n",
            "2021-12-05 -0.740321 -0.505891\n",
            "2021-12-06 -0.172786  0.130782\n",
            "2021-12-07  0.462946  0.987189\n",
            "2021-12-08  2.214281 -0.876578\n",
            "2021-12-09  0.682013  0.714983\n",
            "2021-12-10  0.151747  0.426912\n"
          ]
        }
      ],
      "source": [
        "# 특정 열(B, C)만 출력\n",
        "print(df.loc[:, ['B', 'C']])"
      ]
    },
    {
      "cell_type": "code",
      "execution_count": null,
      "metadata": {
        "colab": {
          "base_uri": "https://localhost:8080/"
        },
        "id": "VSgAdTfeuuh0",
        "outputId": "01eecbb2-1443-4023-e8d9-ee766b9a75a7"
      },
      "outputs": [
        {
          "name": "stdout",
          "output_type": "stream",
          "text": [
            "                   B         C\n",
            "2021-12-05 -0.740321 -0.505891\n",
            "2021-12-06 -0.172786  0.130782\n",
            "2021-12-07  0.462946  0.987189\n",
            "2021-12-08  2.214281 -0.876578\n",
            "2021-12-09  0.682013  0.714983\n"
          ]
        }
      ],
      "source": [
        "# 2021-12-05부터 2021-12-09까지 열 B,C 출력\n",
        "print(df.loc['20211205':'20211209', ['B', 'C']])"
      ]
    },
    {
      "cell_type": "code",
      "execution_count": null,
      "metadata": {
        "colab": {
          "base_uri": "https://localhost:8080/"
        },
        "id": "whKjmB3PvDvM",
        "outputId": "ea0a3dc8-37b6-4a9c-f662-cb9fa481185a"
      },
      "outputs": [
        {
          "name": "stdout",
          "output_type": "stream",
          "text": [
            "A   -0.194497\n",
            "B   -0.740321\n",
            "C   -0.505891\n",
            "Name: 2021-12-05 00:00:00, dtype: float64\n"
          ]
        }
      ],
      "source": [
        "# 4번 인덱스에 해당하는 데이터 출력\n",
        "print(df.iloc[4])"
      ]
    },
    {
      "cell_type": "code",
      "execution_count": null,
      "metadata": {
        "colab": {
          "base_uri": "https://localhost:8080/"
        },
        "id": "CEufouUFvKfX",
        "outputId": "57bbbdf7-d103-4cda-fb89-105bd55193cb"
      },
      "outputs": [
        {
          "name": "stdout",
          "output_type": "stream",
          "text": [
            "                   A         B\n",
            "2021-12-03 -0.617020 -0.252517\n",
            "2021-12-04 -0.593725 -0.189437\n",
            "2021-12-05 -0.194497 -0.740321\n",
            "2021-12-06 -0.263692 -0.172786\n"
          ]
        }
      ],
      "source": [
        "# 인덱스 번호 2~6, 열 번호 0~2인 행 출력\n",
        "print(df.iloc[2:6, 0:2])"
      ]
    },
    {
      "cell_type": "code",
      "execution_count": null,
      "metadata": {
        "colab": {
          "base_uri": "https://localhost:8080/"
        },
        "id": "3osszwhNvZvL",
        "outputId": "36ca49f6-5fe0-48bd-d46e-921961ee1047"
      },
      "outputs": [
        {
          "name": "stdout",
          "output_type": "stream",
          "text": [
            "                   A         C\n",
            "2021-12-02  0.017537 -2.862468\n",
            "2021-12-04 -0.593725  0.662007\n",
            "2021-12-06 -0.263692  0.130782\n"
          ]
        }
      ],
      "source": [
        "# 인덱스 번호 1, 3, 5, 열 번호 0,2인 행 출력\n",
        "print(df.iloc[[1, 3, 5], [0, 2]])"
      ]
    },
    {
      "cell_type": "code",
      "execution_count": null,
      "metadata": {
        "colab": {
          "base_uri": "https://localhost:8080/"
        },
        "id": "g2molM6rvrEI",
        "outputId": "3cdd47dc-2d98-4c05-b76c-560fe3b9897c"
      },
      "outputs": [
        {
          "name": "stdout",
          "output_type": "stream",
          "text": [
            "                   A         B         C\n",
            "2021-12-02  0.017537  0.480440 -2.862468\n",
            "2021-12-07  1.854719  0.462946  0.987189\n",
            "2021-12-08  0.378840  2.214281 -0.876578\n",
            "2021-12-09 -0.904305  0.682013  0.714983\n",
            "2021-12-10  0.716018  0.151747  0.426912\n"
          ]
        }
      ],
      "source": [
        "# 열 B의 값이 양수인 행만 출력\n",
        "print(df[df['B'] > 0])\n"
      ]
    },
    {
      "cell_type": "code",
      "execution_count": null,
      "metadata": {
        "colab": {
          "base_uri": "https://localhost:8080/"
        },
        "id": "9jRvuOhawFqJ",
        "outputId": "6aa5199e-80b9-42b6-fc98-6197a0729437"
      },
      "outputs": [
        {
          "name": "stdout",
          "output_type": "stream",
          "text": [
            "                   A         B         C\n",
            "2021-12-01  0.555806       NaN       NaN\n",
            "2021-12-02  0.017537  0.480440       NaN\n",
            "2021-12-03       NaN       NaN       NaN\n",
            "2021-12-04       NaN       NaN  0.662007\n",
            "2021-12-05       NaN       NaN       NaN\n",
            "2021-12-06       NaN       NaN  0.130782\n",
            "2021-12-07  1.854719  0.462946  0.987189\n",
            "2021-12-08  0.378840  2.214281       NaN\n",
            "2021-12-09       NaN  0.682013  0.714983\n",
            "2021-12-10  0.716018  0.151747  0.426912\n"
          ]
        }
      ],
      "source": [
        "# 양수가 아니면 값 대신 NaN(결측치)로 채워짐\n",
        "print(df[df > 0])"
      ]
    },
    {
      "cell_type": "code",
      "execution_count": null,
      "metadata": {
        "colab": {
          "base_uri": "https://localhost:8080/"
        },
        "id": "gmvUyrVUwnoM",
        "outputId": "52c867b8-33ef-4c96-a42f-2b936dd3b4a0"
      },
      "outputs": [
        {
          "name": "stdout",
          "output_type": "stream",
          "text": [
            "                   A         B         C     D\n",
            "2021-12-01  0.555806 -0.056485 -1.080123  10.0\n",
            "2021-12-02  0.017537  0.480440 -2.862468  10.0\n",
            "2021-12-03 -0.617020 -0.252517 -0.203919  10.0\n",
            "2021-12-04 -0.593725 -0.189437  0.662007   NaN\n",
            "2021-12-05 -0.194497 -0.740321 -0.505891   NaN\n",
            "2021-12-06 -0.263692 -0.172786  0.130782   NaN\n"
          ]
        }
      ],
      "source": [
        "# 새로운 열(파생 변수) 추가\n",
        "df_new = df.reindex(index=date[0:6], columns=list(df.columns) + ['D'])\n",
        "df_new.loc[date[0]:date[2], 'D'] = 10\n",
        "\n",
        "print(df_new)"
      ]
    },
    {
      "cell_type": "code",
      "execution_count": null,
      "metadata": {
        "colab": {
          "base_uri": "https://localhost:8080/"
        },
        "id": "n6xwDxEnxjK_",
        "outputId": "c50b9b29-1dd5-47fb-893f-3f05502db19f"
      },
      "outputs": [
        {
          "name": "stdout",
          "output_type": "stream",
          "text": [
            "                   A         B         C     D\n",
            "2021-12-01  0.555806 -0.056485 -1.080123  10.0\n",
            "2021-12-02  0.017537  0.480440 -2.862468  10.0\n",
            "2021-12-03 -0.617020 -0.252517 -0.203919  10.0\n"
          ]
        }
      ],
      "source": [
        "# 정제: 결측치가 존재하는 행 삭제\n",
        "print(df_new.dropna(axis=0))"
      ]
    },
    {
      "cell_type": "code",
      "execution_count": null,
      "metadata": {
        "colab": {
          "base_uri": "https://localhost:8080/"
        },
        "id": "l7HJJODrxpn4",
        "outputId": "b275eef8-1a7c-427a-d9db-aed5ce65372a"
      },
      "outputs": [
        {
          "name": "stdout",
          "output_type": "stream",
          "text": [
            "                   A         B         C\n",
            "2021-12-01  0.555806 -0.056485 -1.080123\n",
            "2021-12-02  0.017537  0.480440 -2.862468\n",
            "2021-12-03 -0.617020 -0.252517 -0.203919\n",
            "2021-12-04 -0.593725 -0.189437  0.662007\n",
            "2021-12-05 -0.194497 -0.740321 -0.505891\n",
            "2021-12-06 -0.263692 -0.172786  0.130782\n"
          ]
        }
      ],
      "source": [
        "# 정제: 결측치가 존재하는 열 삭제\n",
        "print(df_new.dropna(axis=1))"
      ]
    },
    {
      "cell_type": "code",
      "execution_count": null,
      "metadata": {
        "colab": {
          "base_uri": "https://localhost:8080/"
        },
        "id": "UVHtkkVyxzsj",
        "outputId": "9a9b7840-3a93-423c-f01e-8dac39f342c5"
      },
      "outputs": [
        {
          "name": "stdout",
          "output_type": "stream",
          "text": [
            "                   A         B         C      D\n",
            "2021-12-01  0.555806 -0.056485 -1.080123   10.0\n",
            "2021-12-02  0.017537  0.480440 -2.862468   10.0\n",
            "2021-12-03 -0.617020 -0.252517 -0.203919   10.0\n",
            "2021-12-04 -0.593725 -0.189437  0.662007  999.0\n",
            "2021-12-05 -0.194497 -0.740321 -0.505891  999.0\n",
            "2021-12-06 -0.263692 -0.172786  0.130782  999.0\n"
          ]
        }
      ],
      "source": [
        "# 결측치 부분을 다른 값으로 채우기\n",
        "print(df_new.fillna(value=999))"
      ]
    },
    {
      "cell_type": "code",
      "execution_count": null,
      "metadata": {
        "colab": {
          "base_uri": "https://localhost:8080/"
        },
        "id": "fqJ8rhBUyaUS",
        "outputId": "19e88eb7-b51e-49da-9476-21f73e3d9ac1"
      },
      "outputs": [
        {
          "name": "stdout",
          "output_type": "stream",
          "text": [
            "                   A         B         C\n",
            "2021-12-01  0.555806 -0.056485 -1.080123\n",
            "2021-12-02  0.017537  0.480440 -2.862468\n",
            "2021-12-03 -0.617020 -0.252517 -0.203919\n",
            "2021-12-04 -0.593725 -0.189437  0.662007\n",
            "2021-12-05 -0.194497 -0.740321 -0.505891\n",
            "2021-12-06 -0.263692 -0.172786  0.130782\n",
            "2021-12-07  1.854719  0.462946  0.987189\n",
            "2021-12-08  0.378840  2.214281 -0.876578\n",
            "2021-12-09 -0.904305  0.682013  0.714983\n",
            "2021-12-10  0.716018  0.151747  0.426912\n"
          ]
        }
      ],
      "source": [
        "print(df)"
      ]
    },
    {
      "cell_type": "code",
      "execution_count": null,
      "metadata": {
        "colab": {
          "base_uri": "https://localhost:8080/"
        },
        "id": "QrHn2QGYyOBL",
        "outputId": "606e2aa3-c248-4238-d32d-880bbd7f3760"
      },
      "outputs": [
        {
          "name": "stdout",
          "output_type": "stream",
          "text": [
            "A    0.094968\n",
            "B    0.257988\n",
            "C   -0.260711\n",
            "dtype: float64\n"
          ]
        }
      ],
      "source": [
        "# 각 열별로 모든 행에 대한 평균 구하기\n",
        "print(df.mean(0))"
      ]
    },
    {
      "cell_type": "code",
      "execution_count": null,
      "metadata": {
        "colab": {
          "base_uri": "https://localhost:8080/"
        },
        "id": "D6DUVeGNyReD",
        "outputId": "7d2fa193-7214-4911-e8d0-8254094ef959"
      },
      "outputs": [
        {
          "name": "stdout",
          "output_type": "stream",
          "text": [
            "2021-12-01   -0.193601\n",
            "2021-12-02   -0.788164\n",
            "2021-12-03   -0.357819\n",
            "2021-12-04   -0.040385\n",
            "2021-12-05   -0.480237\n",
            "2021-12-06   -0.101898\n",
            "2021-12-07    1.101618\n",
            "2021-12-08    0.572181\n",
            "2021-12-09    0.164230\n",
            "2021-12-10    0.431559\n",
            "Freq: D, dtype: float64\n"
          ]
        }
      ],
      "source": [
        "# 각 행별로 모든 열의 값에 대한 평균 구하기\n",
        "print(df.mean(1))"
      ]
    },
    {
      "cell_type": "code",
      "execution_count": null,
      "metadata": {
        "colab": {
          "base_uri": "https://localhost:8080/"
        },
        "id": "AVQhjnbNyc_g",
        "outputId": "f24fbff6-792e-4737-9ca2-d2a361277d45"
      },
      "outputs": [
        {
          "name": "stdout",
          "output_type": "stream",
          "text": [
            "A    0.094968\n",
            "B    0.257988\n",
            "C   -0.260711\n",
            "dtype: float64\n"
          ]
        }
      ],
      "source": [
        "# 각 열별로 모든 행에 대한 평균 구하기\n",
        "print(df.apply(np.average))"
      ]
    },
    {
      "cell_type": "code",
      "execution_count": null,
      "metadata": {
        "colab": {
          "base_uri": "https://localhost:8080/"
        },
        "id": "PuxfHLs8yhii",
        "outputId": "0403e8a8-9e19-46f6-e868-afbb29956166"
      },
      "outputs": [
        {
          "name": "stdout",
          "output_type": "stream",
          "text": [
            "A    2.759024\n",
            "B    2.954602\n",
            "C    3.849657\n",
            "dtype: float64\n"
          ]
        }
      ],
      "source": [
        "# 람다 함수(일시적으로 사용할 함수)로 각 열의 최대값-최소값 구하기\n",
        "print(df.apply(lambda x: x.max() - x.min()))"
      ]
    },
    {
      "cell_type": "code",
      "execution_count": null,
      "metadata": {
        "colab": {
          "base_uri": "https://localhost:8080/"
        },
        "id": "J8uecIfyy9oy",
        "outputId": "c4e91fdd-c4ee-4e89-8e39-89f2bf31616b"
      },
      "outputs": [
        {
          "name": "stdout",
          "output_type": "stream",
          "text": [
            "0    python\n",
            "1      java\n",
            "2    kotiin\n",
            "3         c\n",
            "4         o\n",
            "5         m\n",
            "6         p\n",
            "7     swift\n",
            "dtype: object\n"
          ]
        }
      ],
      "source": [
        "a = pd.Series(['Python', 'JAVA', 'Kotiin', 'c', 'o', 'M', 'p', 'swift'])\n",
        "\n",
        "print(a.str.lower())"
      ]
    },
    {
      "cell_type": "code",
      "execution_count": null,
      "metadata": {
        "colab": {
          "base_uri": "https://localhost:8080/"
        },
        "id": "KnN69QylzNKz",
        "outputId": "71c956fc-e75b-418d-93d8-2e502187d87c"
      },
      "outputs": [
        {
          "name": "stdout",
          "output_type": "stream",
          "text": [
            "0    PYTHON\n",
            "1      JAVA\n",
            "2    KOTIIN\n",
            "3         C\n",
            "4         O\n",
            "5         M\n",
            "6         P\n",
            "7     SWIFT\n",
            "dtype: object\n"
          ]
        }
      ],
      "source": [
        "print(a.str.upper())"
      ]
    },
    {
      "cell_type": "code",
      "execution_count": null,
      "metadata": {
        "colab": {
          "base_uri": "https://localhost:8080/"
        },
        "id": "lnhGd8zDzbyz",
        "outputId": "cc6ff58a-7a09-4b77-bf66-f804abd9c37e"
      },
      "outputs": [
        {
          "name": "stdout",
          "output_type": "stream",
          "text": [
            "0    6\n",
            "1    4\n",
            "2    6\n",
            "3    1\n",
            "4    1\n",
            "5    1\n",
            "6    1\n",
            "7    5\n",
            "dtype: int64\n"
          ]
        }
      ],
      "source": [
        "print(a.str.len())"
      ]
    },
    {
      "cell_type": "code",
      "execution_count": null,
      "metadata": {
        "colab": {
          "base_uri": "https://localhost:8080/"
        },
        "id": "D_RnoMtz0ERM",
        "outputId": "f2486f09-8142-4808-a0e1-2b7549568bd6"
      },
      "outputs": [
        {
          "name": "stdout",
          "output_type": "stream",
          "text": [
            "Index(['kim', 'choi', 'park', 'hong', 'lee'], dtype='object')\n"
          ]
        }
      ],
      "source": [
        "b = pd.Index([' kim', 'choi ', ' park ', 'hong', '   lee   '])\n",
        "print(b.str.strip())"
      ]
    },
    {
      "cell_type": "code",
      "execution_count": null,
      "metadata": {
        "colab": {
          "base_uri": "https://localhost:8080/"
        },
        "id": "oFeM11eN0irC",
        "outputId": "b2831f94-e3ba-42d8-fc2c-0dd5baedd06d"
      },
      "outputs": [
        {
          "name": "stdout",
          "output_type": "stream",
          "text": [
            "Index(['kim', 'choi ', 'park ', 'hong', 'lee   '], dtype='object')\n"
          ]
        }
      ],
      "source": [
        "print(b.str.lstrip())"
      ]
    },
    {
      "cell_type": "code",
      "execution_count": null,
      "metadata": {
        "colab": {
          "base_uri": "https://localhost:8080/"
        },
        "id": "lR5OHCPO0kLB",
        "outputId": "6fb1000a-41f6-400d-b3e2-9ca21260436f"
      },
      "outputs": [
        {
          "name": "stdout",
          "output_type": "stream",
          "text": [
            "Index([' kim', 'choi', ' park', 'hong', '   lee'], dtype='object')\n"
          ]
        }
      ],
      "source": [
        "print(b.str.rstrip())"
      ]
    },
    {
      "cell_type": "code",
      "execution_count": null,
      "metadata": {
        "colab": {
          "base_uri": "https://localhost:8080/"
        },
        "id": "NpZQwPuw0uNE",
        "outputId": "772977b6-19ce-4cdd-9b59-68c20fec759a"
      },
      "outputs": [
        {
          "name": "stdout",
          "output_type": "stream",
          "text": [
            "           0         1         2         3         4\n",
            "0  -0.341511  0.426900 -0.961912  0.849984 -0.062804\n",
            "1   0.041043 -0.022056 -0.760405 -0.138381  0.375961\n",
            "2   0.293402 -0.647579  1.454726  0.908204  0.974044\n",
            "3  -0.592226  0.075382 -1.339969 -1.047016  1.952288\n",
            "4  -1.338038 -1.238886  0.278325  1.374694 -0.321278\n",
            "5  -0.280301 -1.576635 -3.458003 -1.620433  0.275377\n",
            "6   1.518871  1.068225 -1.107624  0.632836  1.420734\n",
            "7  -0.333495  1.591887  1.911565 -2.196824 -0.231154\n",
            "8  -0.753161 -1.664293  0.398684 -1.144651  0.460749\n",
            "9   1.051914 -0.862542 -1.219474 -1.346179  0.277075\n",
            "10  0.446787  0.075805  1.532761 -0.037869  0.573563\n",
            "11  1.386323 -0.980699  0.773401 -0.269187 -0.088519\n",
            "12  0.762111  0.777114  1.125277  0.751725 -1.470652\n",
            "13  1.266467  0.058189  0.660246 -0.708044  0.690884\n",
            "14 -0.500002  0.859907 -0.679618  2.374862 -0.983077\n"
          ]
        }
      ],
      "source": [
        "df = pd.DataFrame(np.random.randn(15, 5))\n",
        "print(df)"
      ]
    },
    {
      "cell_type": "code",
      "execution_count": null,
      "metadata": {
        "colab": {
          "base_uri": "https://localhost:8080/"
        },
        "id": "c2IVvIxI1Exa",
        "outputId": "c5a3726c-4b2c-4140-9d4e-86f7a4db2a10"
      },
      "outputs": [
        {
          "data": {
            "text/plain": [
              "[          0         1         2         3         4\n",
              " 0 -0.341511  0.426900 -0.961912  0.849984 -0.062804\n",
              " 1  0.041043 -0.022056 -0.760405 -0.138381  0.375961\n",
              " 2  0.293402 -0.647579  1.454726  0.908204  0.974044\n",
              " 3 -0.592226  0.075382 -1.339969 -1.047016  1.952288\n",
              " 4 -1.338038 -1.238886  0.278325  1.374694 -0.321278,\n",
              "           0         1         2         3         4\n",
              " 5 -0.280301 -1.576635 -3.458003 -1.620433  0.275377\n",
              " 6  1.518871  1.068225 -1.107624  0.632836  1.420734\n",
              " 7 -0.333495  1.591887  1.911565 -2.196824 -0.231154,\n",
              "            0         1         2         3         4\n",
              " 8  -0.753161 -1.664293  0.398684 -1.144651  0.460749\n",
              " 9   1.051914 -0.862542 -1.219474 -1.346179  0.277075\n",
              " 10  0.446787  0.075805  1.532761 -0.037869  0.573563\n",
              " 11  1.386323 -0.980699  0.773401 -0.269187 -0.088519\n",
              " 12  0.762111  0.777114  1.125277  0.751725 -1.470652\n",
              " 13  1.266467  0.058189  0.660246 -0.708044  0.690884\n",
              " 14 -0.500002  0.859907 -0.679618  2.374862 -0.983077]"
            ]
          },
          "metadata": {},
          "output_type": "display_data"
        }
      ],
      "source": [
        "# 데이터프레임 분리\n",
        "a = [df[:5], df[5:8], df[8:]]\n",
        "# print(a)\n",
        "a"
      ]
    },
    {
      "cell_type": "code",
      "execution_count": null,
      "metadata": {
        "colab": {
          "base_uri": "https://localhost:8080/"
        },
        "id": "gMapkYCI1ixE",
        "outputId": "4e8278cd-848b-4611-aeb3-444a1d0e22b3"
      },
      "outputs": [
        {
          "name": "stdout",
          "output_type": "stream",
          "text": [
            "           0         1         2         3         4\n",
            "0  -0.341511  0.426900 -0.961912  0.849984 -0.062804\n",
            "1   0.041043 -0.022056 -0.760405 -0.138381  0.375961\n",
            "2   0.293402 -0.647579  1.454726  0.908204  0.974044\n",
            "3  -0.592226  0.075382 -1.339969 -1.047016  1.952288\n",
            "4  -1.338038 -1.238886  0.278325  1.374694 -0.321278\n",
            "5  -0.280301 -1.576635 -3.458003 -1.620433  0.275377\n",
            "6   1.518871  1.068225 -1.107624  0.632836  1.420734\n",
            "7  -0.333495  1.591887  1.911565 -2.196824 -0.231154\n",
            "8  -0.753161 -1.664293  0.398684 -1.144651  0.460749\n",
            "9   1.051914 -0.862542 -1.219474 -1.346179  0.277075\n",
            "10  0.446787  0.075805  1.532761 -0.037869  0.573563\n",
            "11  1.386323 -0.980699  0.773401 -0.269187 -0.088519\n",
            "12  0.762111  0.777114  1.125277  0.751725 -1.470652\n",
            "13  1.266467  0.058189  0.660246 -0.708044  0.690884\n",
            "14 -0.500002  0.859907 -0.679618  2.374862 -0.983077\n"
          ]
        }
      ],
      "source": [
        "# 분리된 데이터프레임 결합\n",
        "print(pd.concat(a))"
      ]
    },
    {
      "cell_type": "code",
      "execution_count": null,
      "metadata": {
        "colab": {
          "base_uri": "https://localhost:8080/"
        },
        "id": "ezCAD7On1xca",
        "outputId": "32cbf436-fe91-41e6-9d36-19ced2686d77"
      },
      "outputs": [
        {
          "name": "stdout",
          "output_type": "stream",
          "text": [
            "   key  a\n",
            "0  www  1\n",
            "1  xxx  2\n",
            "2  yyy  3\n",
            "--------------------\n",
            "   key  b\n",
            "0  www  4\n",
            "1  xxx  5\n",
            "2  yyy  6\n"
          ]
        }
      ],
      "source": [
        "a = pd.DataFrame({'key':['www', 'xxx', 'yyy'], 'a':[1, 2, 3]})\n",
        "b = pd.DataFrame({'key':['www', 'xxx', 'yyy'], 'b':[4, 5, 6]})\n",
        "\n",
        "print(a)\n",
        "print(\"-\" * 20)\n",
        "print(b)"
      ]
    },
    {
      "cell_type": "code",
      "execution_count": null,
      "metadata": {
        "colab": {
          "base_uri": "https://localhost:8080/"
        },
        "id": "V_K_q4LP2TZS",
        "outputId": "75302c7b-0d19-4643-c1b5-7576bfc1d87c"
      },
      "outputs": [
        {
          "name": "stdout",
          "output_type": "stream",
          "text": [
            "   key  a  b\n",
            "0  www  1  4\n",
            "1  xxx  2  5\n",
            "2  yyy  3  6\n"
          ]
        }
      ],
      "source": [
        "# 데이터프레임 병합\n",
        "print(pd.merge(a, b, on='key'))"
      ]
    },
    {
      "cell_type": "code",
      "execution_count": null,
      "metadata": {
        "colab": {
          "base_uri": "https://localhost:8080/"
        },
        "id": "5XukcvyT2m1T",
        "outputId": "a2df2a54-7af9-4c64-ef66-94628b2fc4a0"
      },
      "outputs": [
        {
          "name": "stdout",
          "output_type": "stream",
          "text": [
            "        C0       C1        C2        C3\n",
            "0      iOS  Windows  1.284242 -0.003553\n",
            "1      iOS    macOS -1.566836 -1.615683\n",
            "2  Android    macOS -0.233072  0.793044\n",
            "3  Android  Windows -0.885342 -0.268344\n",
            "4      iOS    macOS  1.057528  0.019909\n",
            "5  Android  Windows -0.399615 -0.155494\n",
            "6      iOS  Windows  0.673529 -0.617910\n",
            "7  Android    macOS -0.814117  1.932524\n",
            "8  Android  Windows  0.477369 -0.135313\n",
            "9      iOS    macOS -0.890072 -0.622376\n"
          ]
        }
      ],
      "source": [
        "df = pd.DataFrame(\n",
        "    {'C0':['iOS', 'iOS', 'Android', 'Android', 'iOS', 'Android', 'iOS', 'Android', 'Android', 'iOS'],\n",
        "     'C1':['Windows', 'macOS', 'macOS', 'Windows', 'macOS', 'Windows', 'Windows', 'macOS', 'Windows', 'macOS'],\n",
        "     'C2':np.random.randn(10),\n",
        "     'C3':np.random.randn(10),\n",
        "     }\n",
        ")\n",
        "\n",
        "print(df)"
      ]
    },
    {
      "cell_type": "code",
      "execution_count": null,
      "metadata": {
        "colab": {
          "base_uri": "https://localhost:8080/"
        },
        "id": "2bOTfRbo4Lt-",
        "outputId": "9cbe304f-5e1c-47e6-d4f0-4f819b57d28c"
      },
      "outputs": [
        {
          "name": "stdout",
          "output_type": "stream",
          "text": [
            "               C2        C3\n",
            "C0                         \n",
            "Android -1.854777  2.166418\n",
            "iOS      0.558391 -2.839612\n"
          ]
        }
      ],
      "source": [
        "# C0 열 기준으로 그룹화하여 합계 구하기\n",
        "print(df.groupby('C0').sum())"
      ]
    },
    {
      "cell_type": "code",
      "execution_count": null,
      "metadata": {
        "colab": {
          "base_uri": "https://localhost:8080/"
        },
        "id": "fLiLDfHA4U-n",
        "outputId": "8286b352-dcc1-4f66-af6a-0c96ace1b090"
      },
      "outputs": [
        {
          "name": "stdout",
          "output_type": "stream",
          "text": [
            "                       C2        C3\n",
            "C0      C1                         \n",
            "Android Windows -0.807588 -0.559151\n",
            "        macOS   -1.047189  2.725568\n",
            "iOS     Windows  1.957771 -0.621462\n",
            "        macOS   -1.399381 -2.218150\n"
          ]
        }
      ],
      "source": [
        "#  2개의 열(C0, C1)을 기준으로 그룹화하여 합계 구하기\n",
        "print(df.groupby(['C0', 'C1']).sum())"
      ]
    },
    {
      "cell_type": "code",
      "execution_count": null,
      "metadata": {
        "colab": {
          "base_uri": "https://localhost:8080/"
        },
        "id": "bWWjwI574pXQ",
        "outputId": "5035326d-adee-40b3-aeac-e591efaf0046"
      },
      "outputs": [
        {
          "name": "stdout",
          "output_type": "stream",
          "text": [
            "   id init_level\n",
            "0  AA          b\n",
            "1  BB          a\n",
            "2  CC          a\n",
            "3  DD          b\n",
            "4  EE          c\n",
            "5  FF          d\n",
            "6  GG          c\n",
            "7  HH          e\n",
            "8  II          d\n",
            "9  JJ          a\n"
          ]
        }
      ],
      "source": [
        "df = pd.DataFrame(\n",
        "    {'id':['AA', 'BB', 'CC', 'DD', 'EE', 'FF', 'GG', 'HH', 'II', 'JJ'],\n",
        "     'init_level':['b', 'a', 'a', 'b', 'c', 'd', 'c', 'e', 'd', 'a']\n",
        "    }\n",
        ")\n",
        "\n",
        "print(df)"
      ]
    },
    {
      "cell_type": "code",
      "execution_count": null,
      "metadata": {
        "colab": {
          "base_uri": "https://localhost:8080/"
        },
        "id": "u4d26_qG5Sfg",
        "outputId": "70b76633-fd3e-4996-b7dc-d57b4198b71a"
      },
      "outputs": [
        {
          "name": "stdout",
          "output_type": "stream",
          "text": [
            "0    b\n",
            "1    a\n",
            "2    a\n",
            "3    b\n",
            "4    c\n",
            "5    d\n",
            "6    c\n",
            "7    e\n",
            "8    d\n",
            "9    a\n",
            "Name: level, dtype: category\n",
            "Categories (5, object): ['a', 'b', 'c', 'd', 'e']\n"
          ]
        }
      ],
      "source": [
        "df['level'] = df['init_level'].astype('category')\n",
        "print(df['level'])"
      ]
    },
    {
      "cell_type": "code",
      "execution_count": null,
      "metadata": {
        "colab": {
          "base_uri": "https://localhost:8080/"
        },
        "id": "XAkHCxac5jA4",
        "outputId": "843fda35-ce1d-4184-a8a3-1c1412fe575c"
      },
      "outputs": [
        {
          "name": "stdout",
          "output_type": "stream",
          "text": [
            "0    우\n",
            "1    수\n",
            "2    수\n",
            "3    우\n",
            "4    미\n",
            "5    양\n",
            "6    미\n",
            "7    가\n",
            "8    양\n",
            "9    수\n",
            "Name: level, dtype: category\n",
            "Categories (5, object): ['수', '우', '미', '양', '가']\n"
          ]
        }
      ],
      "source": [
        "# 데이터 카테고리컬\n",
        "df['level'].cat.categories = ['수', '우', '미', '양', '가']\n",
        "print(df['level'])"
      ]
    },
    {
      "cell_type": "code",
      "execution_count": null,
      "metadata": {
        "colab": {
          "base_uri": "https://localhost:8080/"
        },
        "id": "5Hc22gMc51BH",
        "outputId": "cbb440c1-0e11-47bf-8d54-622a0018d2db"
      },
      "outputs": [
        {
          "name": "stdout",
          "output_type": "stream",
          "text": [
            "   id init_level level\n",
            "0  AA          b     우\n",
            "1  BB          a     수\n",
            "2  CC          a     수\n",
            "3  DD          b     우\n",
            "4  EE          c     미\n",
            "5  FF          d     양\n",
            "6  GG          c     미\n",
            "7  HH          e     가\n",
            "8  II          d     양\n",
            "9  JJ          a     수\n"
          ]
        }
      ],
      "source": [
        "print(df)"
      ]
    },
    {
      "cell_type": "code",
      "execution_count": null,
      "metadata": {
        "colab": {
          "base_uri": "https://localhost:8080/"
        },
        "id": "EWIoxUSB6B9e",
        "outputId": "290e77e9-e58c-4f67-88ff-07a212575101"
      },
      "outputs": [
        {
          "name": "stdout",
          "output_type": "stream",
          "text": [
            "   id init_level level\n",
            "1  BB          a     수\n",
            "2  CC          a     수\n",
            "9  JJ          a     수\n",
            "0  AA          b     우\n",
            "3  DD          b     우\n",
            "4  EE          c     미\n",
            "6  GG          c     미\n",
            "5  FF          d     양\n",
            "8  II          d     양\n",
            "7  HH          e     가\n"
          ]
        }
      ],
      "source": [
        "# level을 기준으로 정렬(수우미양가 순 정렬)\n",
        "print(df.sort_values(by='level'))"
      ]
    },
    {
      "cell_type": "code",
      "execution_count": null,
      "metadata": {
        "colab": {
          "base_uri": "https://localhost:8080/",
          "height": 509
        },
        "id": "oOSya5rQ9Lbp",
        "outputId": "6840e2fb-ef6b-4499-ce75-8b960d0e612e"
      },
      "outputs": [
        {
          "name": "stdout",
          "output_type": "stream",
          "text": [
            "2021-01-01    1.520492\n",
            "2021-01-02   -0.771279\n",
            "2021-01-03    0.663510\n",
            "2021-01-04   -0.300699\n",
            "2021-01-05    0.215735\n",
            "2021-01-06    0.281310\n",
            "2021-01-07   -0.729935\n",
            "2021-01-08    0.212147\n",
            "2021-01-09    2.145614\n",
            "2021-01-10    0.414148\n",
            "Freq: D, dtype: float64\n"
          ]
        },
        {
          "data": {
            "text/plain": [
              "<matplotlib.axes._subplots.AxesSubplot at 0x7f13aab0cb50>"
            ]
          },
          "metadata": {},
          "output_type": "display_data"
        },
        {
          "data": {
            "image/png": "[encoded data removed]",
            "text/plain": [
              "<Figure size 432x288 with 1 Axes>"
            ]
          },
          "metadata": {},
          "output_type": "display_data"
        }
      ],
      "source": [
        "import numpy as np\n",
        "import pandas as pd\n",
        "import matplotlib.pyplot as plt\n",
        "\n",
        "s = pd.Series(np.random.randn(10), index=pd.date_range('20210101', periods=10))\n",
        "\n",
        "print(s)\n",
        "\n",
        "s = s.cumsum()\n",
        "\n",
        "s.plot()"
      ]
    },
    {
      "cell_type": "code",
      "execution_count": null,
      "metadata": {
        "colab": {
          "base_uri": "https://localhost:8080/",
          "height": 326
        },
        "id": "1LTeFxXA910B",
        "outputId": "a742e91c-ed60-4f07-f0ec-d6fa67864b30"
      },
      "outputs": [
        {
          "data": {
            "text/plain": [
              "<matplotlib.legend.Legend at 0x7f13a772fe20>"
            ]
          },
          "metadata": {},
          "output_type": "display_data"
        },
        {
          "data": {
            "text/plain": [
              "<Figure size 432x288 with 0 Axes>"
            ]
          },
          "metadata": {},
          "output_type": "display_data"
        },
        {
          "data": {
            "image/png": "[encoded data removed]",
            "text/plain": [
              "<Figure size 432x288 with 1 Axes>"
            ]
          },
          "metadata": {},
          "output_type": "display_data"
        }
      ],
      "source": [
        "df = pd.DataFrame(np.random.randn(10, 4), index=s.index, columns=['s1', 's2', 's3', 's4'])\n",
        "df = df.cumsum()\n",
        "plt.figure()\n",
        "df.plot()\n",
        "plt.legend(loc='upper left')    # 좌측 상단에 범례 표시"
      ]
    },
    {
      "cell_type": "code",
      "execution_count": null,
      "metadata": {
        "colab": {
          "base_uri": "https://localhost:8080/",
          "height": 363
        },
        "id": "d1W3Izgw-Qgm",
        "outputId": "9df3d667-c59c-420d-c5f0-6760c49d6630"
      },
      "outputs": [
        {
          "data": {
            "text/html": [
              "<style type=\"text/css\">\n",
              "</style>\n",
              "<table id=\"T_6e700_\" class=\"dataframe\">\n",
              "  <thead>\n",
              "    <tr>\n",
              "      <th class=\"blank level0\" >&nbsp;</th>\n",
              "      <th class=\"col_heading level0 col0\" >A</th>\n",
              "      <th class=\"col_heading level0 col1\" >B</th>\n",
              "      <th class=\"col_heading level0 col2\" >C</th>\n",
              "      <th class=\"col_heading level0 col3\" >D</th>\n",
              "    </tr>\n",
              "  </thead>\n",
              "  <tbody>\n",
              "    <tr>\n",
              "      <th id=\"T_6e700_level0_row0\" class=\"row_heading level0 row0\" >0</th>\n",
              "      <td id=\"T_6e700_row0_col0\" class=\"data row0 col0\" >1.764052</td>\n",
              "      <td id=\"T_6e700_row0_col1\" class=\"data row0 col1\" >0.400157</td>\n",
              "      <td id=\"T_6e700_row0_col2\" class=\"data row0 col2\" >0.978738</td>\n",
              "      <td id=\"T_6e700_row0_col3\" class=\"data row0 col3\" >2.240893</td>\n",
              "    </tr>\n",
              "    <tr>\n",
              "      <th id=\"T_6e700_level0_row1\" class=\"row_heading level0 row1\" >1</th>\n",
              "      <td id=\"T_6e700_row1_col0\" class=\"data row1 col0\" >1.867558</td>\n",
              "      <td id=\"T_6e700_row1_col1\" class=\"data row1 col1\" >-0.977278</td>\n",
              "      <td id=\"T_6e700_row1_col2\" class=\"data row1 col2\" >0.950088</td>\n",
              "      <td id=\"T_6e700_row1_col3\" class=\"data row1 col3\" >-0.151357</td>\n",
              "    </tr>\n",
              "    <tr>\n",
              "      <th id=\"T_6e700_level0_row2\" class=\"row_heading level0 row2\" >2</th>\n",
              "      <td id=\"T_6e700_row2_col0\" class=\"data row2 col0\" >-0.103219</td>\n",
              "      <td id=\"T_6e700_row2_col1\" class=\"data row2 col1\" >0.410599</td>\n",
              "      <td id=\"T_6e700_row2_col2\" class=\"data row2 col2\" >0.144044</td>\n",
              "      <td id=\"T_6e700_row2_col3\" class=\"data row2 col3\" >1.454274</td>\n",
              "    </tr>\n",
              "    <tr>\n",
              "      <th id=\"T_6e700_level0_row3\" class=\"row_heading level0 row3\" >3</th>\n",
              "      <td id=\"T_6e700_row3_col0\" class=\"data row3 col0\" >0.761038</td>\n",
              "      <td id=\"T_6e700_row3_col1\" class=\"data row3 col1\" >0.121675</td>\n",
              "      <td id=\"T_6e700_row3_col2\" class=\"data row3 col2\" >0.443863</td>\n",
              "      <td id=\"T_6e700_row3_col3\" class=\"data row3 col3\" >0.333674</td>\n",
              "    </tr>\n",
              "    <tr>\n",
              "      <th id=\"T_6e700_level0_row4\" class=\"row_heading level0 row4\" >4</th>\n",
              "      <td id=\"T_6e700_row4_col0\" class=\"data row4 col0\" >1.494079</td>\n",
              "      <td id=\"T_6e700_row4_col1\" class=\"data row4 col1\" >-0.205158</td>\n",
              "      <td id=\"T_6e700_row4_col2\" class=\"data row4 col2\" >0.313068</td>\n",
              "      <td id=\"T_6e700_row4_col3\" class=\"data row4 col3\" >-0.854096</td>\n",
              "    </tr>\n",
              "    <tr>\n",
              "      <th id=\"T_6e700_level0_row5\" class=\"row_heading level0 row5\" >5</th>\n",
              "      <td id=\"T_6e700_row5_col0\" class=\"data row5 col0\" >-2.552990</td>\n",
              "      <td id=\"T_6e700_row5_col1\" class=\"data row5 col1\" >0.653619</td>\n",
              "      <td id=\"T_6e700_row5_col2\" class=\"data row5 col2\" >0.864436</td>\n",
              "      <td id=\"T_6e700_row5_col3\" class=\"data row5 col3\" >-0.742165</td>\n",
              "    </tr>\n",
              "    <tr>\n",
              "      <th id=\"T_6e700_level0_row6\" class=\"row_heading level0 row6\" >6</th>\n",
              "      <td id=\"T_6e700_row6_col0\" class=\"data row6 col0\" >2.269755</td>\n",
              "      <td id=\"T_6e700_row6_col1\" class=\"data row6 col1\" >-1.454366</td>\n",
              "      <td id=\"T_6e700_row6_col2\" class=\"data row6 col2\" >0.045759</td>\n",
              "      <td id=\"T_6e700_row6_col3\" class=\"data row6 col3\" >-0.187184</td>\n",
              "    </tr>\n",
              "    <tr>\n",
              "      <th id=\"T_6e700_level0_row7\" class=\"row_heading level0 row7\" >7</th>\n",
              "      <td id=\"T_6e700_row7_col0\" class=\"data row7 col0\" >1.532779</td>\n",
              "      <td id=\"T_6e700_row7_col1\" class=\"data row7 col1\" >1.469359</td>\n",
              "      <td id=\"T_6e700_row7_col2\" class=\"data row7 col2\" >0.154947</td>\n",
              "      <td id=\"T_6e700_row7_col3\" class=\"data row7 col3\" >0.378163</td>\n",
              "    </tr>\n",
              "    <tr>\n",
              "      <th id=\"T_6e700_level0_row8\" class=\"row_heading level0 row8\" >8</th>\n",
              "      <td id=\"T_6e700_row8_col0\" class=\"data row8 col0\" >-0.887786</td>\n",
              "      <td id=\"T_6e700_row8_col1\" class=\"data row8 col1\" >-1.980796</td>\n",
              "      <td id=\"T_6e700_row8_col2\" class=\"data row8 col2\" >-0.347912</td>\n",
              "      <td id=\"T_6e700_row8_col3\" class=\"data row8 col3\" >0.156349</td>\n",
              "    </tr>\n",
              "    <tr>\n",
              "      <th id=\"T_6e700_level0_row9\" class=\"row_heading level0 row9\" >9</th>\n",
              "      <td id=\"T_6e700_row9_col0\" class=\"data row9 col0\" >1.230291</td>\n",
              "      <td id=\"T_6e700_row9_col1\" class=\"data row9 col1\" >1.202380</td>\n",
              "      <td id=\"T_6e700_row9_col2\" class=\"data row9 col2\" >-0.387327</td>\n",
              "      <td id=\"T_6e700_row9_col3\" class=\"data row9 col3\" >-0.302303</td>\n",
              "    </tr>\n",
              "  </tbody>\n",
              "</table>\n"
            ],
            "text/plain": [
              "<pandas.io.formats.style.Styler at 0x7f13a7e2feb0>"
            ]
          },
          "metadata": {},
          "output_type": "display_data"
        }
      ],
      "source": [
        "np.random.seed(0)\n",
        "\n",
        "df = pd.DataFrame(np.random.randn(10, 4), columns=['A', 'B', 'C', 'D'])\n",
        "df.style"
      ]
    },
    {
      "cell_type": "code",
      "execution_count": null,
      "metadata": {
        "colab": {
          "base_uri": "https://localhost:8080/",
          "height": 363
        },
        "id": "kndQahW2-yia",
        "outputId": "bb7a5b9b-b77a-4759-e8b0-0edd8c5deec3"
      },
      "outputs": [
        {
          "data": {
            "text/html": [
              "<style type=\"text/css\">\n",
              "#T_fd092_row0_col0, #T_fd092_row1_col0, #T_fd092_row1_col3, #T_fd092_row2_col0, #T_fd092_row2_col3, #T_fd092_row3_col3, #T_fd092_row4_col0, #T_fd092_row4_col2, #T_fd092_row4_col3, #T_fd092_row5_col0, #T_fd092_row5_col2, #T_fd092_row5_col3, #T_fd092_row6_col1, #T_fd092_row6_col2, #T_fd092_row6_col3, #T_fd092_row7_col0, #T_fd092_row7_col2, #T_fd092_row7_col3, #T_fd092_row8_col0, #T_fd092_row8_col1, #T_fd092_row8_col2, #T_fd092_row8_col3, #T_fd092_row9_col2, #T_fd092_row9_col3 {\n",
              "  color: red;\n",
              "}\n",
              "#T_fd092_row0_col3 {\n",
              "  opacity: 20%;\n",
              "}\n",
              "#T_fd092_row1_col2, #T_fd092_row3_col2, #T_fd092_row6_col0, #T_fd092_row9_col0, #T_fd092_row9_col1 {\n",
              "  color: red;\n",
              "  opacity: 20%;\n",
              "}\n",
              "</style>\n",
              "<table id=\"T_fd092_\" class=\"dataframe\">\n",
              "  <thead>\n",
              "    <tr>\n",
              "      <th class=\"blank level0\" >&nbsp;</th>\n",
              "      <th class=\"col_heading level0 col0\" >s1</th>\n",
              "      <th class=\"col_heading level0 col1\" >s2</th>\n",
              "      <th class=\"col_heading level0 col2\" >s3</th>\n",
              "      <th class=\"col_heading level0 col3\" >s4</th>\n",
              "    </tr>\n",
              "  </thead>\n",
              "  <tbody>\n",
              "    <tr>\n",
              "      <th id=\"T_fd092_level0_row0\" class=\"row_heading level0 row0\" >2021-01-01 00:00:00</th>\n",
              "      <td id=\"T_fd092_row0_col0\" class=\"data row0 col0\" >-0.498032</td>\n",
              "      <td id=\"T_fd092_row0_col1\" class=\"data row0 col1\" >1.929532</td>\n",
              "      <td id=\"T_fd092_row0_col2\" class=\"data row0 col2\" >0.949421</td>\n",
              "      <td id=\"T_fd092_row0_col3\" class=\"data row0 col3\" >0.087551</td>\n",
              "    </tr>\n",
              "    <tr>\n",
              "      <th id=\"T_fd092_level0_row1\" class=\"row_heading level0 row1\" >2021-01-02 00:00:00</th>\n",
              "      <td id=\"T_fd092_row1_col0\" class=\"data row1 col0\" >-1.723468</td>\n",
              "      <td id=\"T_fd092_row1_col1\" class=\"data row1 col1\" >2.773895</td>\n",
              "      <td id=\"T_fd092_row1_col2\" class=\"data row1 col2\" >-0.050795</td>\n",
              "      <td id=\"T_fd092_row1_col3\" class=\"data row1 col3\" >-1.457220</td>\n",
              "    </tr>\n",
              "    <tr>\n",
              "      <th id=\"T_fd092_level0_row2\" class=\"row_heading level0 row2\" >2021-01-03 00:00:00</th>\n",
              "      <td id=\"T_fd092_row2_col0\" class=\"data row2 col0\" >-0.535438</td>\n",
              "      <td id=\"T_fd092_row2_col1\" class=\"data row2 col1\" >3.090838</td>\n",
              "      <td id=\"T_fd092_row2_col2\" class=\"data row2 col2\" >0.870064</td>\n",
              "      <td id=\"T_fd092_row2_col3\" class=\"data row2 col3\" >-1.138492</td>\n",
              "    </tr>\n",
              "    <tr>\n",
              "      <th id=\"T_fd092_level0_row3\" class=\"row_heading level0 row3\" >2021-01-04 00:00:00</th>\n",
              "      <td id=\"T_fd092_row3_col0\" class=\"data row3 col0\" >0.321392</td>\n",
              "      <td id=\"T_fd092_row3_col1\" class=\"data row3 col1\" >2.439812</td>\n",
              "      <td id=\"T_fd092_row3_col2\" class=\"data row3 col2\" >-0.164179</td>\n",
              "      <td id=\"T_fd092_row3_col3\" class=\"data row3 col3\" >-0.456898</td>\n",
              "    </tr>\n",
              "    <tr>\n",
              "      <th id=\"T_fd092_level0_row4\" class=\"row_heading level0 row4\" >2021-01-05 00:00:00</th>\n",
              "      <td id=\"T_fd092_row4_col0\" class=\"data row4 col0\" >-0.482017</td>\n",
              "      <td id=\"T_fd092_row4_col1\" class=\"data row4 col1\" >1.750262</td>\n",
              "      <td id=\"T_fd092_row4_col2\" class=\"data row4 col2\" >-0.619711</td>\n",
              "      <td id=\"T_fd092_row4_col3\" class=\"data row4 col3\" >-0.439419</td>\n",
              "    </tr>\n",
              "    <tr>\n",
              "      <th id=\"T_fd092_level0_row5\" class=\"row_heading level0 row5\" >2021-01-06 00:00:00</th>\n",
              "      <td id=\"T_fd092_row5_col0\" class=\"data row5 col0\" >-0.836011</td>\n",
              "      <td id=\"T_fd092_row5_col1\" class=\"data row5 col1\" >0.375311</td>\n",
              "      <td id=\"T_fd092_row5_col2\" class=\"data row5 col2\" >-1.263329</td>\n",
              "      <td id=\"T_fd092_row5_col3\" class=\"data row5 col3\" >-2.662822</td>\n",
              "    </tr>\n",
              "    <tr>\n",
              "      <th id=\"T_fd092_level0_row6\" class=\"row_heading level0 row6\" >2021-01-07 00:00:00</th>\n",
              "      <td id=\"T_fd092_row6_col0\" class=\"data row6 col0\" >-0.210780</td>\n",
              "      <td id=\"T_fd092_row6_col1\" class=\"data row6 col1\" >-1.226747</td>\n",
              "      <td id=\"T_fd092_row6_col2\" class=\"data row6 col2\" >-2.367713</td>\n",
              "      <td id=\"T_fd092_row6_col3\" class=\"data row6 col3\" >-2.610657</td>\n",
              "    </tr>\n",
              "    <tr>\n",
              "      <th id=\"T_fd092_level0_row7\" class=\"row_heading level0 row7\" >2021-01-08 00:00:00</th>\n",
              "      <td id=\"T_fd092_row7_col0\" class=\"data row7 col0\" >-0.950343</td>\n",
              "      <td id=\"T_fd092_row7_col1\" class=\"data row7 col1\" >0.316268</td>\n",
              "      <td id=\"T_fd092_row7_col2\" class=\"data row7 col2\" >-3.660570</td>\n",
              "      <td id=\"T_fd092_row7_col3\" class=\"data row7 col3\" >-2.343606</td>\n",
              "    </tr>\n",
              "    <tr>\n",
              "      <th id=\"T_fd092_level0_row8\" class=\"row_heading level0 row8\" >2021-01-09 00:00:00</th>\n",
              "      <td id=\"T_fd092_row8_col0\" class=\"data row8 col0\" >-0.989626</td>\n",
              "      <td id=\"T_fd092_row8_col1\" class=\"data row8 col1\" >-0.851826</td>\n",
              "      <td id=\"T_fd092_row8_col2\" class=\"data row8 col2\" >-3.137293</td>\n",
              "      <td id=\"T_fd092_row8_col3\" class=\"data row8 col3\" >-2.515152</td>\n",
              "    </tr>\n",
              "    <tr>\n",
              "      <th id=\"T_fd092_level0_row9\" class=\"row_heading level0 row9\" >2021-01-10 00:00:00</th>\n",
              "      <td id=\"T_fd092_row9_col0\" class=\"data row9 col0\" >-0.217835</td>\n",
              "      <td id=\"T_fd092_row9_col1\" class=\"data row9 col1\" >-0.028321</td>\n",
              "      <td id=\"T_fd092_row9_col2\" class=\"data row9 col2\" >-0.974057</td>\n",
              "      <td id=\"T_fd092_row9_col3\" class=\"data row9 col3\" >-1.178624</td>\n",
              "    </tr>\n",
              "  </tbody>\n",
              "</table>\n"
            ],
            "text/plain": [
              "<pandas.io.formats.style.Styler at 0x7f13a7708af0>"
            ]
          },
          "metadata": {},
          "output_type": "display_data"
        }
      ],
      "source": [
        "def n_style(value, color=''):\n",
        "    return color if value < 0 else None\n",
        "\n",
        "s = df.style.applymap(n_style, color='color:red;').applymap(lambda v: 'opacity: 20%' if (v < 0.3) and (v > -0.3) else None)\n",
        "\n",
        "s"
      ]
    },
    {
      "cell_type": "code",
      "execution_count": null,
      "metadata": {
        "colab": {
          "base_uri": "https://localhost:8080/"
        },
        "id": "gGocU7pv_xw7",
        "outputId": "b3f3e2b0-7ded-47c4-f2cc-338d94e530e4"
      },
      "outputs": [
        {
          "name": "stdout",
          "output_type": "stream",
          "text": [
            "2021-01-01   -1.913801\n",
            "2021-01-02   -2.285499\n",
            "2021-01-03   -1.601841\n",
            "2021-01-04   -0.037907\n",
            "2021-01-05   -0.157305\n",
            "                ...   \n",
            "2021-04-06   -0.317462\n",
            "2021-04-07   -0.902072\n",
            "2021-04-08    0.320999\n",
            "2021-04-09   -1.392016\n",
            "2021-04-10    0.592206\n",
            "Freq: D, Length: 100, dtype: float64\n",
            "==================================================\n",
            "                  s1        s2        s3        s4\n",
            "2021-01-01 -0.966931 -1.731731 -0.050107  0.431634\n",
            "2021-01-02  0.576935  0.818354 -2.353640 -1.005144\n",
            "2021-01-03  0.106652  1.519003  0.783744  1.901340\n",
            "2021-01-04 -0.524939  0.274417 -1.099971 -0.404352\n",
            "2021-01-05 -0.735296 -0.633989 -0.393449  0.002718\n",
            "...              ...       ...       ...       ...\n",
            "2021-04-06 -0.210001  1.052153  0.907904 -1.093226\n",
            "2021-04-07  2.799708 -0.325776 -1.152416  0.888232\n",
            "2021-04-08 -0.361672  2.153720  0.847408 -0.198720\n",
            "2021-04-09  1.575307  0.849115 -1.228895  0.888394\n",
            "2021-04-10 -0.516487 -0.083326  0.131054 -0.879096\n",
            "\n",
            "[100 rows x 4 columns]\n"
          ]
        }
      ],
      "source": [
        "s = pd.Series(np.random.randn(100), index=pd.date_range('20210101', periods=100))\n",
        "print(s)\n",
        "\n",
        "print(\"=\" * 50)\n",
        "\n",
        "df = pd.DataFrame(np.random.randn(100, 4), index=s.index, columns=['s1', 's2', 's3', 's4'])\n",
        "print(df)"
      ]
    },
    {
      "cell_type": "code",
      "execution_count": null,
      "metadata": {
        "id": "88JaxQNaAZeL"
      },
      "outputs": [],
      "source": [
        "# CSV 파일로 저장\n",
        "df.to_csv('data.csv')"
      ]
    },
    {
      "cell_type": "code",
      "execution_count": null,
      "metadata": {
        "id": "Ibuf6RLvAj0X"
      },
      "outputs": [],
      "source": [
        "# CSV 파일 읽기\n",
        "pd.read_csv('data.csv') "
      ]
    },
    {
      "cell_type": "code",
      "execution_count": null,
      "metadata": {
        "id": "QW-ccI8eA3RH"
      },
      "outputs": [],
      "source": [
        "# 엑셀 파일로 저장\n",
        "df.to_excel('data.xlsx', sheet_name='Data Sheet1')"
      ]
    },
    {
      "cell_type": "code",
      "execution_count": null,
      "metadata": {
        "colab": {
          "base_uri": "https://localhost:8080/",
          "height": 424
        },
        "id": "WOfy6L2eBCWu",
        "outputId": "1e11d2a6-1cd5-4493-ce9f-d3cbbf14e199"
      },
      "outputs": [
        {
          "data": {
            "text/html": [
              "\n",
              "  <div id=\"df-a0eab689-edfc-4b76-aadc-42b87749da56\">\n",
              "    <div class=\"colab-df-container\">\n",
              "      <div>\n",
              "<style scoped>\n",
              "    .dataframe tbody tr th:only-of-type {\n",
              "        vertical-align: middle;\n",
              "    }\n",
              "\n",
              "    .dataframe tbody tr th {\n",
              "        vertical-align: top;\n",
              "    }\n",
              "\n",
              "    .dataframe thead th {\n",
              "        text-align: right;\n",
              "    }\n",
              "</style>\n",
              "<table border=\"1\" class=\"dataframe\">\n",
              "  <thead>\n",
              "    <tr style=\"text-align: right;\">\n",
              "      <th></th>\n",
              "      <th>Unnamed: 0</th>\n",
              "      <th>s1</th>\n",
              "      <th>s2</th>\n",
              "      <th>s3</th>\n",
              "      <th>s4</th>\n",
              "    </tr>\n",
              "  </thead>\n",
              "  <tbody>\n",
              "    <tr>\n",
              "      <th>0</th>\n",
              "      <td>2021-01-01</td>\n",
              "      <td>-0.966931</td>\n",
              "      <td>-1.731731</td>\n",
              "      <td>-0.050107</td>\n",
              "      <td>0.431634</td>\n",
              "    </tr>\n",
              "    <tr>\n",
              "      <th>1</th>\n",
              "      <td>2021-01-02</td>\n",
              "      <td>0.576935</td>\n",
              "      <td>0.818354</td>\n",
              "      <td>-2.353640</td>\n",
              "      <td>-1.005144</td>\n",
              "    </tr>\n",
              "    <tr>\n",
              "      <th>2</th>\n",
              "      <td>2021-01-03</td>\n",
              "      <td>0.106652</td>\n",
              "      <td>1.519003</td>\n",
              "      <td>0.783744</td>\n",
              "      <td>1.901340</td>\n",
              "    </tr>\n",
              "    <tr>\n",
              "      <th>3</th>\n",
              "      <td>2021-01-04</td>\n",
              "      <td>-0.524939</td>\n",
              "      <td>0.274417</td>\n",
              "      <td>-1.099971</td>\n",
              "      <td>-0.404352</td>\n",
              "    </tr>\n",
              "    <tr>\n",
              "      <th>4</th>\n",
              "      <td>2021-01-05</td>\n",
              "      <td>-0.735296</td>\n",
              "      <td>-0.633989</td>\n",
              "      <td>-0.393449</td>\n",
              "      <td>0.002718</td>\n",
              "    </tr>\n",
              "    <tr>\n",
              "      <th>...</th>\n",
              "      <td>...</td>\n",
              "      <td>...</td>\n",
              "      <td>...</td>\n",
              "      <td>...</td>\n",
              "      <td>...</td>\n",
              "    </tr>\n",
              "    <tr>\n",
              "      <th>95</th>\n",
              "      <td>2021-04-06</td>\n",
              "      <td>-0.210001</td>\n",
              "      <td>1.052153</td>\n",
              "      <td>0.907904</td>\n",
              "      <td>-1.093226</td>\n",
              "    </tr>\n",
              "    <tr>\n",
              "      <th>96</th>\n",
              "      <td>2021-04-07</td>\n",
              "      <td>2.799708</td>\n",
              "      <td>-0.325776</td>\n",
              "      <td>-1.152416</td>\n",
              "      <td>0.888232</td>\n",
              "    </tr>\n",
              "    <tr>\n",
              "      <th>97</th>\n",
              "      <td>2021-04-08</td>\n",
              "      <td>-0.361672</td>\n",
              "      <td>2.153720</td>\n",
              "      <td>0.847408</td>\n",
              "      <td>-0.198720</td>\n",
              "    </tr>\n",
              "    <tr>\n",
              "      <th>98</th>\n",
              "      <td>2021-04-09</td>\n",
              "      <td>1.575307</td>\n",
              "      <td>0.849115</td>\n",
              "      <td>-1.228895</td>\n",
              "      <td>0.888394</td>\n",
              "    </tr>\n",
              "    <tr>\n",
              "      <th>99</th>\n",
              "      <td>2021-04-10</td>\n",
              "      <td>-0.516487</td>\n",
              "      <td>-0.083326</td>\n",
              "      <td>0.131054</td>\n",
              "      <td>-0.879096</td>\n",
              "    </tr>\n",
              "  </tbody>\n",
              "</table>\n",
              "<p>100 rows × 5 columns</p>\n",
              "</div>\n",
              "      <button class=\"colab-df-convert\" onclick=\"convertToInteractive('df-a0eab689-edfc-4b76-aadc-42b87749da56')\"\n",
              "              title=\"Convert this dataframe to an interactive table.\"\n",
              "              style=\"display:none;\">\n",
              "        \n",
              "  <svg xmlns=\"http://www.w3.org/2000/svg\" height=\"24px\"viewBox=\"0 0 24 24\"\n",
              "       width=\"24px\">\n",
              "    <path d=\"M0 0h24v24H0V0z\" fill=\"none\"/>\n",
              "    <path d=\"M18.56 5.44l.94 2.06.94-2.06 2.06-.94-2.06-.94-.94-2.06-.94 2.06-2.06.94zm-11 1L8.5 8.5l.94-2.06 2.06-.94-2.06-.94L8.5 2.5l-.94 2.06-2.06.94zm10 10l.94 2.06.94-2.06 2.06-.94-2.06-.94-.94-2.06-.94 2.06-2.06.94z\"/><path d=\"M17.41 7.96l-1.37-1.37c-.4-.4-.92-.59-1.43-.59-.52 0-1.04.2-1.43.59L10.3 9.45l-7.72 7.72c-.78.78-.78 2.05 0 2.83L4 21.41c.39.39.9.59 1.41.59.51 0 1.02-.2 1.41-.59l7.78-7.78 2.81-2.81c.8-.78.8-2.07 0-2.86zM5.41 20L4 18.59l7.72-7.72 1.47 1.35L5.41 20z\"/>\n",
              "  </svg>\n",
              "      </button>\n",
              "      \n",
              "  <style>\n",
              "    .colab-df-container {\n",
              "      display:flex;\n",
              "      flex-wrap:wrap;\n",
              "      gap: 12px;\n",
              "    }\n",
              "\n",
              "    .colab-df-convert {\n",
              "      background-color: #E8F0FE;\n",
              "      border: none;\n",
              "      border-radius: 50%;\n",
              "      cursor: pointer;\n",
              "      display: none;\n",
              "      fill: #1967D2;\n",
              "      height: 32px;\n",
              "      padding: 0 0 0 0;\n",
              "      width: 32px;\n",
              "    }\n",
              "\n",
              "    .colab-df-convert:hover {\n",
              "      background-color: #E2EBFA;\n",
              "      box-shadow: 0px 1px 2px rgba(60, 64, 67, 0.3), 0px 1px 3px 1px rgba(60, 64, 67, 0.15);\n",
              "      fill: #174EA6;\n",
              "    }\n",
              "\n",
              "    [theme=dark] .colab-df-convert {\n",
              "      background-color: #3B4455;\n",
              "      fill: #D2E3FC;\n",
              "    }\n",
              "\n",
              "    [theme=dark] .colab-df-convert:hover {\n",
              "      background-color: #434B5C;\n",
              "      box-shadow: 0px 1px 3px 1px rgba(0, 0, 0, 0.15);\n",
              "      filter: drop-shadow(0px 1px 2px rgba(0, 0, 0, 0.3));\n",
              "      fill: #FFFFFF;\n",
              "    }\n",
              "  </style>\n",
              "\n",
              "      <script>\n",
              "        const buttonEl =\n",
              "          document.querySelector('#df-a0eab689-edfc-4b76-aadc-42b87749da56 button.colab-df-convert');\n",
              "        buttonEl.style.display =\n",
              "          google.colab.kernel.accessAllowed ? 'block' : 'none';\n",
              "\n",
              "        async function convertToInteractive(key) {\n",
              "          const element = document.querySelector('#df-a0eab689-edfc-4b76-aadc-42b87749da56');\n",
              "          const dataTable =\n",
              "            await google.colab.kernel.invokeFunction('convertToInteractive',\n",
              "                                                     [key], {});\n",
              "          if (!dataTable) return;\n",
              "\n",
              "          const docLinkHtml = 'Like what you see? Visit the ' +\n",
              "            '<a target=\"_blank\" href=https://colab.research.google.com/notebooks/data_table.ipynb>data table notebook</a>'\n",
              "            + ' to learn more about interactive tables.';\n",
              "          element.innerHTML = '';\n",
              "          dataTable['output_type'] = 'display_data';\n",
              "          await google.colab.output.renderOutput(dataTable, element);\n",
              "          const docLink = document.createElement('div');\n",
              "          docLink.innerHTML = docLinkHtml;\n",
              "          element.appendChild(docLink);\n",
              "        }\n",
              "      </script>\n",
              "    </div>\n",
              "  </div>\n",
              "  "
            ],
            "text/plain": [
              "   Unnamed: 0        s1        s2        s3        s4\n",
              "0  2021-01-01 -0.966931 -1.731731 -0.050107  0.431634\n",
              "1  2021-01-02  0.576935  0.818354 -2.353640 -1.005144\n",
              "2  2021-01-03  0.106652  1.519003  0.783744  1.901340\n",
              "3  2021-01-04 -0.524939  0.274417 -1.099971 -0.404352\n",
              "4  2021-01-05 -0.735296 -0.633989 -0.393449  0.002718\n",
              "..        ...       ...       ...       ...       ...\n",
              "95 2021-04-06 -0.210001  1.052153  0.907904 -1.093226\n",
              "96 2021-04-07  2.799708 -0.325776 -1.152416  0.888232\n",
              "97 2021-04-08 -0.361672  2.153720  0.847408 -0.198720\n",
              "98 2021-04-09  1.575307  0.849115 -1.228895  0.888394\n",
              "99 2021-04-10 -0.516487 -0.083326  0.131054 -0.879096\n",
              "\n",
              "[100 rows x 5 columns]"
            ]
          },
          "metadata": {},
          "output_type": "display_data"
        }
      ],
      "source": [
        "# 엑셀 파일 읽기\n",
        "pd.read_excel('data.xlsx', 'Data Sheet1')"
      ]
    },
    {
      "cell_type": "code",
      "execution_count": null,
      "metadata": {
        "colab": {
          "base_uri": "https://localhost:8080/",
          "height": 265
        },
        "id": "6fn4rXZOBNl8",
        "outputId": "d0a00e72-222f-41e4-d833-284c442c6747"
      },
      "outputs": [
        {
          "data": {
            "image/png": "[encoded data removed]",
            "text/plain": [
              "<Figure size 432x288 with 1 Axes>"
            ]
          },
          "metadata": {},
          "output_type": "display_data"
        }
      ],
      "source": [
        "import matplotlib.pyplot as plt\n",
        "\n",
        "plt.plot([1, 2, 3, 4])\n",
        "plt.ylabel('Y axis label')\n",
        "plt.show()"
      ]
    },
    {
      "cell_type": "code",
      "execution_count": null,
      "metadata": {
        "colab": {
          "base_uri": "https://localhost:8080/",
          "height": 279
        },
        "id": "LTEbyxfZBmVi",
        "outputId": "26693aeb-b3db-4571-f054-9f53fe6d5051"
      },
      "outputs": [
        {
          "data": {
            "image/png": "[encoded data removed]",
            "text/plain": [
              "<Figure size 432x288 with 1 Axes>"
            ]
          },
          "metadata": {},
          "output_type": "display_data"
        }
      ],
      "source": [
        "plt.plot([1, 2, 3, 4], [15, 6, 3, 10])\n",
        "plt.xlabel('X axis label')\n",
        "plt.ylabel('Y axis label')\n",
        "plt.show()"
      ]
    }
  ],
  "metadata": {
    "colab": {
      "provenance": [],
      "include_colab_link": true
    },
    "kernelspec": {
      "display_name": "Python 3",
      "name": "python3"
    },
    "language_info": {
      "name": "python"
    }
  },
  "nbformat": 4,
  "nbformat_minor": 0
}